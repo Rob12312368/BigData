{
 "cells": [
  {
   "cell_type": "code",
   "execution_count": 1,
   "id": "f4ed6fd5-8dfd-46fc-a80a-839106896c8d",
   "metadata": {},
   "outputs": [],
   "source": [
    "! hdfs dfs -D dfs.replication=1 -cp -f data/*.csv hdfs://nn:9000/"
   ]
  },
  {
   "cell_type": "code",
   "execution_count": 2,
   "id": "d0b35b01-568a-443b-a366-ba2a2ea952d2",
   "metadata": {},
   "outputs": [
    {
     "name": "stdout",
     "output_type": "stream",
     "text": [
      "Found 22 items\n",
      "-rw-r--r--   1 root supergroup        328 2023-11-09 06:08 hdfs://nn:9000/action_taken.csv\n",
      "-rw-r--r--   1 root supergroup        317 2023-11-09 06:08 hdfs://nn:9000/agency.csv\n",
      "-rw-r--r--   1 root supergroup     533472 2023-11-09 06:08 hdfs://nn:9000/arid2017_to_lei_xref_csv.csv\n",
      "-rw-r--r--   1 root supergroup     319092 2023-11-09 06:08 hdfs://nn:9000/counties.csv\n",
      "-rw-r--r--   1 root supergroup        237 2023-11-09 06:08 hdfs://nn:9000/denial_reason.csv\n",
      "-rw-r--r--   1 root supergroup        109 2023-11-09 06:08 hdfs://nn:9000/edit_status.csv\n",
      "-rw-r--r--   1 root supergroup        180 2023-11-09 06:08 hdfs://nn:9000/ethnicity.csv\n",
      "-rw-r--r--   1 root supergroup  174944099 2023-11-09 06:08 hdfs://nn:9000/hdma-wi-2021.csv\n",
      "-rw-r--r--   1 root supergroup         41 2023-11-09 06:08 hdfs://nn:9000/hoepa.csv\n",
      "-rw-r--r--   1 root supergroup        114 2023-11-09 06:08 hdfs://nn:9000/lien_status.csv\n",
      "-rw-r--r--   1 root supergroup         65 2023-11-09 06:08 hdfs://nn:9000/loan_purpose.csv\n",
      "-rw-r--r--   1 root supergroup         79 2023-11-09 06:08 hdfs://nn:9000/loan_type.csv\n",
      "-rw-r--r--   1 root supergroup     132689 2023-11-09 06:08 hdfs://nn:9000/msamd.csv\n",
      "-rw-r--r--   1 root supergroup        122 2023-11-09 06:08 hdfs://nn:9000/owner_occupancy.csv\n",
      "-rw-r--r--   1 root supergroup         92 2023-11-09 06:08 hdfs://nn:9000/preapproval.csv\n",
      "-rw-r--r--   1 root supergroup        127 2023-11-09 06:08 hdfs://nn:9000/property_type.csv\n",
      "-rw-r--r--   1 root supergroup        387 2023-11-09 06:08 hdfs://nn:9000/purchaser_type.csv\n",
      "-rw-r--r--   1 root supergroup        252 2023-11-09 06:08 hdfs://nn:9000/race.csv\n",
      "-rw-r--r--   1 root supergroup        144 2023-11-09 06:08 hdfs://nn:9000/sex.csv\n",
      "-rw-r--r--   1 root supergroup        955 2023-11-09 06:08 hdfs://nn:9000/states.csv\n",
      "-rw-r--r--   1 root supergroup    2733350 2023-11-09 06:08 hdfs://nn:9000/tracts.csv\n",
      "drwxr-xr-x   - root supergroup          0 2023-11-09 03:16 hdfs://nn:9000/user\n"
     ]
    }
   ],
   "source": [
    "! hdfs dfs -ls hdfs://nn:9000/"
   ]
  },
  {
   "cell_type": "code",
   "execution_count": 3,
   "id": "bc4660ce-ff52-4ebd-81cd-2929d4c62c43",
   "metadata": {},
   "outputs": [
    {
     "name": "stderr",
     "output_type": "stream",
     "text": [
      "Setting default log level to \"WARN\".\n",
      "To adjust logging level use sc.setLogLevel(newLevel). For SparkR, use setLogLevel(newLevel).\n",
      "23/11/09 06:09:01 WARN NativeCodeLoader: Unable to load native-hadoop library for your platform... using builtin-java classes where applicable\n"
     ]
    }
   ],
   "source": [
    "from pyspark.sql import SparkSession\n",
    "spark = (SparkSession.builder.appName(\"cs544\")\n",
    "         .master(\"spark://boss:7077\")\n",
    "         .config(\"spark.executor.memory\", \"512M\")\n",
    "         .config(\"spark.sql.warehouse.dir\", \"hdfs://nn:9000/user/hive/warehouse\")\n",
    "         .enableHiveSupport()\n",
    "         .getOrCreate())"
   ]
  },
  {
   "cell_type": "code",
   "execution_count": 4,
   "id": "0d7be710-2049-4bd1-a925-3979ea9a2196",
   "metadata": {},
   "outputs": [
    {
     "name": "stderr",
     "output_type": "stream",
     "text": [
      "                                                                                \r"
     ]
    }
   ],
   "source": [
    "banks_df = (spark.read.format(\"csv\")\n",
    "      .option(\"header\", True)\n",
    "      .option(\"inferSchema\", True)\n",
    "      .load(\"hdfs://nn:9000/arid2017_to_lei_xref_csv.csv\"))"
   ]
  },
  {
   "cell_type": "code",
   "execution_count": 5,
   "id": "a9a80a11-12ca-4d82-b4e0-1476c2aa10bd",
   "metadata": {},
   "outputs": [
    {
     "data": {
      "text/plain": [
       "[('respondent_name', 'string'),\n",
       " ('arid_2017', 'string'),\n",
       " ('lei_2018', 'string'),\n",
       " ('lei_2019', 'string'),\n",
       " ('lei_2020', 'string')]"
      ]
     },
     "execution_count": 5,
     "metadata": {},
     "output_type": "execute_result"
    }
   ],
   "source": [
    "banks_df.dtypes"
   ]
  },
  {
   "cell_type": "code",
   "execution_count": 6,
   "id": "42b2c5dc-bbf9-480c-a5fc-f63d39a04bc1",
   "metadata": {},
   "outputs": [
    {
     "name": "stderr",
     "output_type": "stream",
     "text": [
      "                                                                                \r"
     ]
    },
    {
     "data": {
      "text/plain": [
       "525"
      ]
     },
     "execution_count": 6,
     "metadata": {},
     "output_type": "execute_result"
    }
   ],
   "source": [
    "#q1\n",
    "banks_df.rdd.filter(lambda x: 'first' in x['respondent_name'].lower()).count()"
   ]
  },
  {
   "cell_type": "code",
   "execution_count": 7,
   "id": "be5ab53e-a561-4009-8184-6bc19fa98dfd",
   "metadata": {},
   "outputs": [
    {
     "name": "stderr",
     "output_type": "stream",
     "text": [
      "                                                                                \r"
     ]
    },
    {
     "data": {
      "text/plain": [
       "525"
      ]
     },
     "execution_count": 7,
     "metadata": {},
     "output_type": "execute_result"
    }
   ],
   "source": [
    "#q2\n",
    "from pyspark.sql.functions import col, expr\n",
    "banks_df.filter(expr('LOWER(respondent_name) like \"%first%\"')).count()"
   ]
  },
  {
   "cell_type": "code",
   "execution_count": 8,
   "id": "b7792563-3f22-43ea-b268-92a0e40f1904",
   "metadata": {},
   "outputs": [
    {
     "name": "stderr",
     "output_type": "stream",
     "text": [
      "23/11/09 06:09:48 WARN HiveConf: HiveConf of name hive.stats.jdbc.timeout does not exist\n",
      "23/11/09 06:09:48 WARN HiveConf: HiveConf of name hive.stats.retries.wait does not exist\n",
      "23/11/09 06:09:53 WARN ObjectStore: Version information not found in metastore. hive.metastore.schema.verification is not enabled so recording the schema version 2.3.0\n",
      "23/11/09 06:09:53 WARN ObjectStore: setMetaStoreSchemaVersion called but recording version is disabled: version = 2.3.0, comment = Set by MetaStore UNKNOWN@172.26.0.6\n",
      "23/11/09 06:09:55 WARN ObjectStore: Failed to get database global_temp, returning NoSuchObjectException\n",
      "23/11/09 06:10:00 WARN SessionState: METASTORE_FILTER_HOOK will be ignored, since hive.security.authorization.manager is set to instance of HiveAuthorizerFactory.\n",
      "23/11/09 06:10:00 WARN HiveConf: HiveConf of name hive.internal.ss.authz.settings.applied.marker does not exist\n",
      "23/11/09 06:10:00 WARN HiveConf: HiveConf of name hive.stats.jdbc.timeout does not exist\n",
      "23/11/09 06:10:00 WARN HiveConf: HiveConf of name hive.stats.retries.wait does not exist\n",
      "                                                                                \r"
     ]
    },
    {
     "data": {
      "text/plain": [
       "525"
      ]
     },
     "execution_count": 8,
     "metadata": {},
     "output_type": "execute_result"
    }
   ],
   "source": [
    "#q3\n",
    "banks_df.write.saveAsTable(\"banks\", mode=\"overwrite\")\n",
    "spark.sql('select count(respondent_name) as count from banks where LOWER(respondent_name) like \"%first%\"').select('count').first()[0]"
   ]
  },
  {
   "cell_type": "code",
   "execution_count": 9,
   "id": "22a7f941-7063-46ae-b3e5-8c311515c4df",
   "metadata": {},
   "outputs": [
    {
     "name": "stdout",
     "output_type": "stream",
     "text": [
      "Found 2 items\n",
      "drwxr-xr-x   - root supergroup          0 2023-11-09 06:10 hdfs://nn:9000/user/hive/warehouse/banks\n",
      "drwxr-xr-x   - root supergroup          0 2023-11-09 03:26 hdfs://nn:9000/user/hive/warehouse/loans\n"
     ]
    }
   ],
   "source": [
    "! hdfs dfs -ls hdfs://nn:9000/user/hive/warehouse"
   ]
  },
  {
   "cell_type": "code",
   "execution_count": 10,
   "id": "781eeeba-3b3d-48bc-a0ab-f8537f647682",
   "metadata": {},
   "outputs": [
    {
     "name": "stderr",
     "output_type": "stream",
     "text": [
      "                                                                                \r"
     ]
    }
   ],
   "source": [
    "loans_df = (spark.read.format(\"csv\")\n",
    "      .option(\"header\", True)\n",
    "      .option(\"inferSchema\", True)\n",
    "      .load(\"hdfs://nn:9000/hdma-wi-2021.csv\"))"
   ]
  },
  {
   "cell_type": "code",
   "execution_count": 11,
   "id": "5b49750f-87a2-47de-8747-6bd4614aefae",
   "metadata": {},
   "outputs": [
    {
     "name": "stderr",
     "output_type": "stream",
     "text": [
      "23/11/09 06:10:21 WARN SparkStringUtils: Truncated the string representation of a plan since it was too large. This behavior can be adjusted by setting 'spark.sql.debug.maxToStringFields'.\n",
      "                                                                                \r"
     ]
    }
   ],
   "source": [
    "(loans_df.write.format('parquet')  \n",
    "    .bucketBy(8, 'county_code')\n",
    "    .mode(\"overwrite\")\n",
    "    .saveAsTable('loans'))"
   ]
  },
  {
   "cell_type": "code",
   "execution_count": 12,
   "id": "596f3e69-2fad-4112-aa07-d151f64f10ea",
   "metadata": {},
   "outputs": [
    {
     "name": "stdout",
     "output_type": "stream",
     "text": [
      "Found 2 items\n",
      "drwxr-xr-x   - root supergroup          0 2023-11-09 06:10 hdfs://nn:9000/user/hive/warehouse/banks\n",
      "drwxr-xr-x   - root supergroup          0 2023-11-09 06:10 hdfs://nn:9000/user/hive/warehouse/loans\n"
     ]
    }
   ],
   "source": [
    "!hdfs dfs -ls hdfs://nn:9000/user/hive/warehouse"
   ]
  },
  {
   "cell_type": "code",
   "execution_count": 13,
   "id": "6dad4a71-1f6d-4bab-86d6-e738d7ef8fcf",
   "metadata": {},
   "outputs": [],
   "source": [
    "mylist = [\"ethnicity\", \"race\", \"sex\", \"states\", \"counties\", \"tracts\", \"action_taken\",\n",
    " \"denial_reason\", \"loan_type\", \"loan_purpose\", \"preapproval\", \"property_type\"]"
   ]
  },
  {
   "cell_type": "code",
   "execution_count": 14,
   "id": "06746e75-8701-4b6b-9075-d838fb363533",
   "metadata": {},
   "outputs": [
    {
     "name": "stderr",
     "output_type": "stream",
     "text": [
      "                                                                                \r"
     ]
    }
   ],
   "source": [
    "for i in mylist:\n",
    "    (spark.read.format(\"csv\")\n",
    "      .option(\"header\", True)\n",
    "      .option(\"inferSchema\", True)\n",
    "      .load(f\"hdfs://nn:9000/{i}.csv\")).createOrReplaceTempView(i)"
   ]
  },
  {
   "cell_type": "code",
   "execution_count": 15,
   "id": "b64b99ed-c10a-468e-b510-f57d8640fab0",
   "metadata": {},
   "outputs": [
    {
     "data": {
      "text/plain": [
       "{'banks': False,\n",
       " 'loans': False,\n",
       " 'action_taken': True,\n",
       " 'counties': True,\n",
       " 'denial_reason': True,\n",
       " 'ethnicity': True,\n",
       " 'loan_purpose': True,\n",
       " 'loan_type': True,\n",
       " 'preapproval': True,\n",
       " 'property_type': True,\n",
       " 'race': True,\n",
       " 'sex': True,\n",
       " 'states': True,\n",
       " 'tracts': True}"
      ]
     },
     "execution_count": 15,
     "metadata": {},
     "output_type": "execute_result"
    }
   ],
   "source": [
    "#q4\n",
    "mydict = {}\n",
    "for i in spark.sql(\"SHOW TABLES\").collect():\n",
    "    mydict[i['tableName']] = i['isTemporary']\n",
    "mydict"
   ]
  },
  {
   "cell_type": "code",
   "execution_count": 16,
   "id": "0db19a90-56df-4ae5-a5cd-d767ea4281dd",
   "metadata": {},
   "outputs": [
    {
     "name": "stderr",
     "output_type": "stream",
     "text": [
      "                                                                                \r"
     ]
    },
    {
     "data": {
      "text/plain": [
       "19739"
      ]
     },
     "execution_count": 16,
     "metadata": {},
     "output_type": "execute_result"
    }
   ],
   "source": [
    "#q5\n",
    "banks = spark.table('banks')\n",
    "loans = spark.table('loans')\n",
    "spark.sql(\"\"\"\n",
    "select count(*)\n",
    "from banks b, loans l\n",
    "where b.lei_2020 = l.lei and\n",
    "respondent_name = 'University of Wisconsin Credit Union'\n",
    "\"\"\").first()[0]"
   ]
  },
  {
   "cell_type": "code",
   "execution_count": 17,
   "id": "0e4e7485-8f13-4135-a226-3594c7a4b34f",
   "metadata": {},
   "outputs": [
    {
     "name": "stdout",
     "output_type": "stream",
     "text": [
      "== Physical Plan ==\n",
      "AdaptiveSparkPlan (12)\n",
      "+- HashAggregate (11)\n",
      "   +- Exchange (10)\n",
      "      +- HashAggregate (9)\n",
      "         +- Project (8)\n",
      "            +- BroadcastHashJoin Inner BuildLeft (7)\n",
      "               :- BroadcastExchange (4)\n",
      "               :  +- Project (3)\n",
      "               :     +- Filter (2)\n",
      "               :        +- Scan parquet spark_catalog.default.banks (1)\n",
      "               +- Filter (6)\n",
      "                  +- Scan parquet spark_catalog.default.loans (5)\n",
      "\n",
      "\n",
      "(1) Scan parquet spark_catalog.default.banks\n",
      "Output [2]: [respondent_name#65, lei_2020#69]\n",
      "Batched: true\n",
      "Location: InMemoryFileIndex [hdfs://nn:9000/user/hive/warehouse/banks]\n",
      "PushedFilters: [IsNotNull(respondent_name), EqualTo(respondent_name,University of Wisconsin Credit Union), IsNotNull(lei_2020)]\n",
      "ReadSchema: struct<respondent_name:string,lei_2020:string>\n",
      "\n",
      "(2) Filter\n",
      "Input [2]: [respondent_name#65, lei_2020#69]\n",
      "Condition : ((isnotnull(respondent_name#65) AND (respondent_name#65 = University of Wisconsin Credit Union)) AND isnotnull(lei_2020#69))\n",
      "\n",
      "(3) Project\n",
      "Output [1]: [lei_2020#69]\n",
      "Input [2]: [respondent_name#65, lei_2020#69]\n",
      "\n",
      "(4) BroadcastExchange\n",
      "Input [1]: [lei_2020#69]\n",
      "Arguments: HashedRelationBroadcastMode(List(input[0, string, true]),false), [plan_id=621]\n",
      "\n",
      "(5) Scan parquet spark_catalog.default.loans\n",
      "Output [1]: [lei#995]\n",
      "Batched: true\n",
      "Bucketed: false (bucket column(s) not read)\n",
      "Location: InMemoryFileIndex [hdfs://nn:9000/user/hive/warehouse/loans]\n",
      "PushedFilters: [IsNotNull(lei)]\n",
      "ReadSchema: struct<lei:string>\n",
      "\n",
      "(6) Filter\n",
      "Input [1]: [lei#995]\n",
      "Condition : isnotnull(lei#995)\n",
      "\n",
      "(7) BroadcastHashJoin\n",
      "Left keys [1]: [lei_2020#69]\n",
      "Right keys [1]: [lei#995]\n",
      "Join type: Inner\n",
      "Join condition: None\n",
      "\n",
      "(8) Project\n",
      "Output: []\n",
      "Input [2]: [lei_2020#69, lei#995]\n",
      "\n",
      "(9) HashAggregate\n",
      "Input: []\n",
      "Keys: []\n",
      "Functions [1]: [partial_count(1)]\n",
      "Aggregate Attributes [1]: [count#1201L]\n",
      "Results [1]: [count#1202L]\n",
      "\n",
      "(10) Exchange\n",
      "Input [1]: [count#1202L]\n",
      "Arguments: SinglePartition, ENSURE_REQUIREMENTS, [plan_id=626]\n",
      "\n",
      "(11) HashAggregate\n",
      "Input [1]: [count#1202L]\n",
      "Keys: []\n",
      "Functions [1]: [count(1)]\n",
      "Aggregate Attributes [1]: [count(1)#1198L]\n",
      "Results [1]: [count(1)#1198L AS count(1)#1199L]\n",
      "\n",
      "(12) AdaptiveSparkPlan\n",
      "Output [1]: [count(1)#1199L]\n",
      "Arguments: isFinalPlan=false\n",
      "\n",
      "\n"
     ]
    }
   ],
   "source": [
    "#q6\n",
    "#+- Scan parquet spark_catalog.default.banks (1) => the table being sent to every executor is banks\n",
    "#Functions [1]: [count(1)] => hash function was caused by count\n",
    "spark.sql(\"\"\"\n",
    "select count(*)\n",
    "from banks b, loans l\n",
    "where b.lei_2020 = l.lei and\n",
    "respondent_name = 'University of Wisconsin Credit Union'\n",
    "\"\"\").explain('formatted')"
   ]
  },
  {
   "cell_type": "code",
   "execution_count": 18,
   "id": "c015f63f-3042-439c-8df5-5579e49d32c8",
   "metadata": {},
   "outputs": [
    {
     "name": "stderr",
     "output_type": "stream",
     "text": [
      "                                                                                \r"
     ]
    },
    {
     "data": {
      "text/html": [
       "<div>\n",
       "<style scoped>\n",
       "    .dataframe tbody tr th:only-of-type {\n",
       "        vertical-align: middle;\n",
       "    }\n",
       "\n",
       "    .dataframe tbody tr th {\n",
       "        vertical-align: top;\n",
       "    }\n",
       "\n",
       "    .dataframe thead th {\n",
       "        text-align: right;\n",
       "    }\n",
       "</style>\n",
       "<table border=\"1\" class=\"dataframe\">\n",
       "  <thead>\n",
       "    <tr style=\"text-align: right;\">\n",
       "      <th></th>\n",
       "      <th>respondent_name</th>\n",
       "      <th>arid_2017</th>\n",
       "      <th>lei_2018</th>\n",
       "      <th>lei_2019</th>\n",
       "      <th>lei_2020</th>\n",
       "    </tr>\n",
       "  </thead>\n",
       "  <tbody>\n",
       "    <tr>\n",
       "      <th>0</th>\n",
       "      <td>First National Bank</td>\n",
       "      <td>110004</td>\n",
       "      <td>5493003EW6T31TGECO83</td>\n",
       "      <td>5493003EW6T31TGECO83</td>\n",
       "      <td>5493003EW6T31TGECO83</td>\n",
       "    </tr>\n",
       "    <tr>\n",
       "      <th>1</th>\n",
       "      <td>First Mid Bank &amp; Trust, National Association</td>\n",
       "      <td>110045</td>\n",
       "      <td>549300XOTES5TCS8T794</td>\n",
       "      <td>549300XOTES5TCS8T794</td>\n",
       "      <td>549300XOTES5TCS8T794</td>\n",
       "    </tr>\n",
       "    <tr>\n",
       "      <th>2</th>\n",
       "      <td>First Hope Bank, A National Banking Association</td>\n",
       "      <td>110118</td>\n",
       "      <td>5493003XLOX5FDT9R120</td>\n",
       "      <td>5493003XLOX5FDT9R120</td>\n",
       "      <td>5493003XLOX5FDT9R120</td>\n",
       "    </tr>\n",
       "  </tbody>\n",
       "</table>\n",
       "</div>"
      ],
      "text/plain": [
       "                                   respondent_name arid_2017  \\\n",
       "0                              First National Bank    110004   \n",
       "1     First Mid Bank & Trust, National Association    110045   \n",
       "2  First Hope Bank, A National Banking Association    110118   \n",
       "\n",
       "               lei_2018              lei_2019              lei_2020  \n",
       "0  5493003EW6T31TGECO83  5493003EW6T31TGECO83  5493003EW6T31TGECO83  \n",
       "1  549300XOTES5TCS8T794  549300XOTES5TCS8T794  549300XOTES5TCS8T794  \n",
       "2  5493003XLOX5FDT9R120  5493003XLOX5FDT9R120  5493003XLOX5FDT9R120  "
      ]
     },
     "execution_count": 18,
     "metadata": {},
     "output_type": "execute_result"
    }
   ],
   "source": [
    "banks.limit(3).toPandas()"
   ]
  },
  {
   "cell_type": "code",
   "execution_count": 19,
   "id": "774dd709-992e-468d-858a-1c3f7df57e67",
   "metadata": {},
   "outputs": [
    {
     "name": "stderr",
     "output_type": "stream",
     "text": [
      "                                                                                \r"
     ]
    },
    {
     "data": {
      "text/html": [
       "<div>\n",
       "<style scoped>\n",
       "    .dataframe tbody tr th:only-of-type {\n",
       "        vertical-align: middle;\n",
       "    }\n",
       "\n",
       "    .dataframe tbody tr th {\n",
       "        vertical-align: top;\n",
       "    }\n",
       "\n",
       "    .dataframe thead th {\n",
       "        text-align: right;\n",
       "    }\n",
       "</style>\n",
       "<table border=\"1\" class=\"dataframe\">\n",
       "  <thead>\n",
       "    <tr style=\"text-align: right;\">\n",
       "      <th></th>\n",
       "      <th>activity_year</th>\n",
       "      <th>lei</th>\n",
       "      <th>derived_msa-md</th>\n",
       "      <th>state_code</th>\n",
       "      <th>county_code</th>\n",
       "      <th>census_tract</th>\n",
       "      <th>conforming_loan_limit</th>\n",
       "      <th>derived_loan_product_type</th>\n",
       "      <th>derived_dwelling_category</th>\n",
       "      <th>derived_ethnicity</th>\n",
       "      <th>...</th>\n",
       "      <th>denial_reason-2</th>\n",
       "      <th>denial_reason-3</th>\n",
       "      <th>denial_reason-4</th>\n",
       "      <th>tract_population</th>\n",
       "      <th>tract_minority_population_percent</th>\n",
       "      <th>ffiec_msa_md_median_family_income</th>\n",
       "      <th>tract_to_msa_income_percentage</th>\n",
       "      <th>tract_owner_occupied_units</th>\n",
       "      <th>tract_one_to_four_family_homes</th>\n",
       "      <th>tract_median_age_of_housing_units</th>\n",
       "    </tr>\n",
       "  </thead>\n",
       "  <tbody>\n",
       "    <tr>\n",
       "      <th>0</th>\n",
       "      <td>2021</td>\n",
       "      <td>549300FQ2SN6TRRGB032</td>\n",
       "      <td>99999</td>\n",
       "      <td>WI</td>\n",
       "      <td>55055</td>\n",
       "      <td>55055100602</td>\n",
       "      <td>C</td>\n",
       "      <td>Conventional:First Lien</td>\n",
       "      <td>Single Family (1-4 Units):Site-Built</td>\n",
       "      <td>Not Hispanic or Latino</td>\n",
       "      <td>...</td>\n",
       "      <td>NaN</td>\n",
       "      <td>NaN</td>\n",
       "      <td>NaN</td>\n",
       "      <td>3351</td>\n",
       "      <td>2.98</td>\n",
       "      <td>69600</td>\n",
       "      <td>112</td>\n",
       "      <td>1201</td>\n",
       "      <td>1689</td>\n",
       "      <td>38</td>\n",
       "    </tr>\n",
       "    <tr>\n",
       "      <th>1</th>\n",
       "      <td>2021</td>\n",
       "      <td>254900HA4DQWAE0W3342</td>\n",
       "      <td>31540</td>\n",
       "      <td>WI</td>\n",
       "      <td>55025</td>\n",
       "      <td>55025012700</td>\n",
       "      <td>C</td>\n",
       "      <td>Conventional:First Lien</td>\n",
       "      <td>Single Family (1-4 Units):Site-Built</td>\n",
       "      <td>Ethnicity Not Available</td>\n",
       "      <td>...</td>\n",
       "      <td>NaN</td>\n",
       "      <td>NaN</td>\n",
       "      <td>NaN</td>\n",
       "      <td>4053</td>\n",
       "      <td>3.38</td>\n",
       "      <td>99000</td>\n",
       "      <td>109</td>\n",
       "      <td>1346</td>\n",
       "      <td>1638</td>\n",
       "      <td>27</td>\n",
       "    </tr>\n",
       "    <tr>\n",
       "      <th>2</th>\n",
       "      <td>2021</td>\n",
       "      <td>549300FQ2SN6TRRGB032</td>\n",
       "      <td>99999</td>\n",
       "      <td>WI</td>\n",
       "      <td>55113</td>\n",
       "      <td>55113100500</td>\n",
       "      <td>C</td>\n",
       "      <td>Conventional:First Lien</td>\n",
       "      <td>Single Family (1-4 Units):Site-Built</td>\n",
       "      <td>Not Hispanic or Latino</td>\n",
       "      <td>...</td>\n",
       "      <td>NaN</td>\n",
       "      <td>NaN</td>\n",
       "      <td>NaN</td>\n",
       "      <td>3378</td>\n",
       "      <td>3.46</td>\n",
       "      <td>69600</td>\n",
       "      <td>107</td>\n",
       "      <td>1475</td>\n",
       "      <td>4331</td>\n",
       "      <td>34</td>\n",
       "    </tr>\n",
       "  </tbody>\n",
       "</table>\n",
       "<p>3 rows × 99 columns</p>\n",
       "</div>"
      ],
      "text/plain": [
       "   activity_year                   lei  derived_msa-md state_code county_code  \\\n",
       "0           2021  549300FQ2SN6TRRGB032           99999         WI       55055   \n",
       "1           2021  254900HA4DQWAE0W3342           31540         WI       55025   \n",
       "2           2021  549300FQ2SN6TRRGB032           99999         WI       55113   \n",
       "\n",
       "  census_tract conforming_loan_limit derived_loan_product_type  \\\n",
       "0  55055100602                     C   Conventional:First Lien   \n",
       "1  55025012700                     C   Conventional:First Lien   \n",
       "2  55113100500                     C   Conventional:First Lien   \n",
       "\n",
       "              derived_dwelling_category        derived_ethnicity  ...  \\\n",
       "0  Single Family (1-4 Units):Site-Built   Not Hispanic or Latino  ...   \n",
       "1  Single Family (1-4 Units):Site-Built  Ethnicity Not Available  ...   \n",
       "2  Single Family (1-4 Units):Site-Built   Not Hispanic or Latino  ...   \n",
       "\n",
       "  denial_reason-2 denial_reason-3  denial_reason-4  tract_population  \\\n",
       "0             NaN             NaN              NaN              3351   \n",
       "1             NaN             NaN              NaN              4053   \n",
       "2             NaN             NaN              NaN              3378   \n",
       "\n",
       "   tract_minority_population_percent  ffiec_msa_md_median_family_income  \\\n",
       "0                               2.98                              69600   \n",
       "1                               3.38                              99000   \n",
       "2                               3.46                              69600   \n",
       "\n",
       "   tract_to_msa_income_percentage  tract_owner_occupied_units  \\\n",
       "0                             112                        1201   \n",
       "1                             109                        1346   \n",
       "2                             107                        1475   \n",
       "\n",
       "   tract_one_to_four_family_homes  tract_median_age_of_housing_units  \n",
       "0                            1689                                 38  \n",
       "1                            1638                                 27  \n",
       "2                            4331                                 34  \n",
       "\n",
       "[3 rows x 99 columns]"
      ]
     },
     "execution_count": 19,
     "metadata": {},
     "output_type": "execute_result"
    }
   ],
   "source": [
    "loans.limit(3).toPandas()"
   ]
  },
  {
   "cell_type": "code",
   "execution_count": 20,
   "id": "228cc951-4eb4-474a-bca7-339a556bc98e",
   "metadata": {},
   "outputs": [
    {
     "name": "stdout",
     "output_type": "stream",
     "text": [
      "+---------+-------------+-----------+\n",
      "|namespace|    tableName|isTemporary|\n",
      "+---------+-------------+-----------+\n",
      "|  default|        banks|      false|\n",
      "|  default|        loans|      false|\n",
      "|         | action_taken|       true|\n",
      "|         |     counties|       true|\n",
      "|         |denial_reason|       true|\n",
      "|         |    ethnicity|       true|\n",
      "|         | loan_purpose|       true|\n",
      "|         |    loan_type|       true|\n",
      "|         |  preapproval|       true|\n",
      "|         |property_type|       true|\n",
      "|         |         race|       true|\n",
      "|         |          sex|       true|\n",
      "|         |       states|       true|\n",
      "|         |       tracts|       true|\n",
      "+---------+-------------+-----------+\n",
      "\n"
     ]
    }
   ],
   "source": [
    "spark.sql(\"SHOW TABLES\").show()"
   ]
  },
  {
   "cell_type": "code",
   "execution_count": 21,
   "id": "f237c9d2-586e-42e2-8a01-7f063598cba5",
   "metadata": {},
   "outputs": [
    {
     "data": {
      "text/html": [
       "<div>\n",
       "<style scoped>\n",
       "    .dataframe tbody tr th:only-of-type {\n",
       "        vertical-align: middle;\n",
       "    }\n",
       "\n",
       "    .dataframe tbody tr th {\n",
       "        vertical-align: top;\n",
       "    }\n",
       "\n",
       "    .dataframe thead th {\n",
       "        text-align: right;\n",
       "    }\n",
       "</style>\n",
       "<table border=\"1\" class=\"dataframe\">\n",
       "  <thead>\n",
       "    <tr style=\"text-align: right;\">\n",
       "      <th></th>\n",
       "      <th>AREA</th>\n",
       "      <th>PERIMETER</th>\n",
       "      <th>CO99_D00_</th>\n",
       "      <th>CO99_D00_I</th>\n",
       "      <th>STATE</th>\n",
       "      <th>COUNTY</th>\n",
       "      <th>NAME</th>\n",
       "      <th>LSAD</th>\n",
       "      <th>LSAD_TRANS</th>\n",
       "    </tr>\n",
       "  </thead>\n",
       "  <tbody>\n",
       "    <tr>\n",
       "      <th>0</th>\n",
       "      <td>52.91341</td>\n",
       "      <td>60.56496</td>\n",
       "      <td>2.0</td>\n",
       "      <td>1.0</td>\n",
       "      <td>2</td>\n",
       "      <td>185</td>\n",
       "      <td>North Slope</td>\n",
       "      <td>4</td>\n",
       "      <td>Borough</td>\n",
       "    </tr>\n",
       "    <tr>\n",
       "      <th>1</th>\n",
       "      <td>74.22506</td>\n",
       "      <td>63.13100</td>\n",
       "      <td>3.0</td>\n",
       "      <td>2.0</td>\n",
       "      <td>2</td>\n",
       "      <td>290</td>\n",
       "      <td>Yukon-Koyukuk</td>\n",
       "      <td>5</td>\n",
       "      <td>Census Area</td>\n",
       "    </tr>\n",
       "    <tr>\n",
       "      <th>2</th>\n",
       "      <td>19.67918</td>\n",
       "      <td>40.91407</td>\n",
       "      <td>4.0</td>\n",
       "      <td>3.0</td>\n",
       "      <td>2</td>\n",
       "      <td>188</td>\n",
       "      <td>Northwest Arctic</td>\n",
       "      <td>4</td>\n",
       "      <td>Borough</td>\n",
       "    </tr>\n",
       "    <tr>\n",
       "      <th>3</th>\n",
       "      <td>10.69172</td>\n",
       "      <td>31.55687</td>\n",
       "      <td>5.0</td>\n",
       "      <td>4.0</td>\n",
       "      <td>2</td>\n",
       "      <td>180</td>\n",
       "      <td>Nome</td>\n",
       "      <td>5</td>\n",
       "      <td>Census Area</td>\n",
       "    </tr>\n",
       "    <tr>\n",
       "      <th>4</th>\n",
       "      <td>0.00375</td>\n",
       "      <td>0.34984</td>\n",
       "      <td>6.0</td>\n",
       "      <td>5.0</td>\n",
       "      <td>2</td>\n",
       "      <td>180</td>\n",
       "      <td>Nome</td>\n",
       "      <td>5</td>\n",
       "      <td>Census Area</td>\n",
       "    </tr>\n",
       "  </tbody>\n",
       "</table>\n",
       "</div>"
      ],
      "text/plain": [
       "       AREA  PERIMETER  CO99_D00_  CO99_D00_I  STATE  COUNTY  \\\n",
       "0  52.91341   60.56496        2.0         1.0      2     185   \n",
       "1  74.22506   63.13100        3.0         2.0      2     290   \n",
       "2  19.67918   40.91407        4.0         3.0      2     188   \n",
       "3  10.69172   31.55687        5.0         4.0      2     180   \n",
       "4   0.00375    0.34984        6.0         5.0      2     180   \n",
       "\n",
       "               NAME  LSAD   LSAD_TRANS  \n",
       "0       North Slope     4      Borough  \n",
       "1     Yukon-Koyukuk     5  Census Area  \n",
       "2  Northwest Arctic     4      Borough  \n",
       "3              Nome     5  Census Area  \n",
       "4              Nome     5  Census Area  "
      ]
     },
     "execution_count": 21,
     "metadata": {},
     "output_type": "execute_result"
    }
   ],
   "source": [
    "spark.table('counties').limit(5).toPandas()"
   ]
  },
  {
   "cell_type": "code",
   "execution_count": 22,
   "id": "c78de679-5e3f-45d5-b1ca-85f19d3c44ac",
   "metadata": {},
   "outputs": [
    {
     "name": "stderr",
     "output_type": "stream",
     "text": [
      "                                                                                \r"
     ]
    },
    {
     "data": {
      "text/html": [
       "<div>\n",
       "<style scoped>\n",
       "    .dataframe tbody tr th:only-of-type {\n",
       "        vertical-align: middle;\n",
       "    }\n",
       "\n",
       "    .dataframe tbody tr th {\n",
       "        vertical-align: top;\n",
       "    }\n",
       "\n",
       "    .dataframe thead th {\n",
       "        text-align: right;\n",
       "    }\n",
       "</style>\n",
       "<table border=\"1\" class=\"dataframe\">\n",
       "  <thead>\n",
       "    <tr style=\"text-align: right;\">\n",
       "      <th></th>\n",
       "      <th>activity_year</th>\n",
       "      <th>lei</th>\n",
       "      <th>derived_msa-md</th>\n",
       "      <th>state_code</th>\n",
       "      <th>county_code</th>\n",
       "      <th>census_tract</th>\n",
       "      <th>conforming_loan_limit</th>\n",
       "      <th>derived_loan_product_type</th>\n",
       "      <th>derived_dwelling_category</th>\n",
       "      <th>derived_ethnicity</th>\n",
       "      <th>...</th>\n",
       "      <th>tract_median_age_of_housing_units</th>\n",
       "      <th>AREA</th>\n",
       "      <th>PERIMETER</th>\n",
       "      <th>CO99_D00_</th>\n",
       "      <th>CO99_D00_I</th>\n",
       "      <th>STATE</th>\n",
       "      <th>COUNTY</th>\n",
       "      <th>NAME</th>\n",
       "      <th>LSAD</th>\n",
       "      <th>LSAD_TRANS</th>\n",
       "    </tr>\n",
       "  </thead>\n",
       "  <tbody>\n",
       "    <tr>\n",
       "      <th>0</th>\n",
       "      <td>2021</td>\n",
       "      <td>549300FQ2SN6TRRGB032</td>\n",
       "      <td>99999</td>\n",
       "      <td>WI</td>\n",
       "      <td>55055</td>\n",
       "      <td>55055100602</td>\n",
       "      <td>C</td>\n",
       "      <td>Conventional:First Lien</td>\n",
       "      <td>Single Family (1-4 Units):Site-Built</td>\n",
       "      <td>Not Hispanic or Latino</td>\n",
       "      <td>...</td>\n",
       "      <td>38</td>\n",
       "      <td>0.16668</td>\n",
       "      <td>1.65070</td>\n",
       "      <td>738.0</td>\n",
       "      <td>737.0</td>\n",
       "      <td>55</td>\n",
       "      <td>55</td>\n",
       "      <td>Jefferson</td>\n",
       "      <td>6</td>\n",
       "      <td>County</td>\n",
       "    </tr>\n",
       "    <tr>\n",
       "      <th>1</th>\n",
       "      <td>2021</td>\n",
       "      <td>254900HA4DQWAE0W3342</td>\n",
       "      <td>31540</td>\n",
       "      <td>WI</td>\n",
       "      <td>55025</td>\n",
       "      <td>55025012700</td>\n",
       "      <td>C</td>\n",
       "      <td>Conventional:First Lien</td>\n",
       "      <td>Single Family (1-4 Units):Site-Built</td>\n",
       "      <td>Ethnicity Not Available</td>\n",
       "      <td>...</td>\n",
       "      <td>27</td>\n",
       "      <td>0.35443</td>\n",
       "      <td>2.51806</td>\n",
       "      <td>717.0</td>\n",
       "      <td>716.0</td>\n",
       "      <td>55</td>\n",
       "      <td>25</td>\n",
       "      <td>Dane</td>\n",
       "      <td>6</td>\n",
       "      <td>County</td>\n",
       "    </tr>\n",
       "    <tr>\n",
       "      <th>2</th>\n",
       "      <td>2021</td>\n",
       "      <td>549300FQ2SN6TRRGB032</td>\n",
       "      <td>99999</td>\n",
       "      <td>WI</td>\n",
       "      <td>55113</td>\n",
       "      <td>55113100500</td>\n",
       "      <td>C</td>\n",
       "      <td>Conventional:First Lien</td>\n",
       "      <td>Single Family (1-4 Units):Site-Built</td>\n",
       "      <td>Not Hispanic or Latino</td>\n",
       "      <td>...</td>\n",
       "      <td>34</td>\n",
       "      <td>0.40534</td>\n",
       "      <td>2.78246</td>\n",
       "      <td>335.0</td>\n",
       "      <td>334.0</td>\n",
       "      <td>55</td>\n",
       "      <td>113</td>\n",
       "      <td>Sawyer</td>\n",
       "      <td>6</td>\n",
       "      <td>County</td>\n",
       "    </tr>\n",
       "    <tr>\n",
       "      <th>3</th>\n",
       "      <td>2021</td>\n",
       "      <td>254900HA4DQWAE0W3342</td>\n",
       "      <td>33460</td>\n",
       "      <td>WI</td>\n",
       "      <td>55093</td>\n",
       "      <td>55093960700</td>\n",
       "      <td>C</td>\n",
       "      <td>Conventional:First Lien</td>\n",
       "      <td>Single Family (1-4 Units):Site-Built</td>\n",
       "      <td>Ethnicity Not Available</td>\n",
       "      <td>...</td>\n",
       "      <td>41</td>\n",
       "      <td>0.17400</td>\n",
       "      <td>1.85148</td>\n",
       "      <td>475.0</td>\n",
       "      <td>474.0</td>\n",
       "      <td>55</td>\n",
       "      <td>93</td>\n",
       "      <td>Pierce</td>\n",
       "      <td>6</td>\n",
       "      <td>County</td>\n",
       "    </tr>\n",
       "    <tr>\n",
       "      <th>4</th>\n",
       "      <td>2021</td>\n",
       "      <td>549300FQ2SN6TRRGB032</td>\n",
       "      <td>99999</td>\n",
       "      <td>WI</td>\n",
       "      <td>55055</td>\n",
       "      <td>55055101201</td>\n",
       "      <td>C</td>\n",
       "      <td>Conventional:First Lien</td>\n",
       "      <td>Single Family (1-4 Units):Site-Built</td>\n",
       "      <td>Not Hispanic or Latino</td>\n",
       "      <td>...</td>\n",
       "      <td>55</td>\n",
       "      <td>0.16668</td>\n",
       "      <td>1.65070</td>\n",
       "      <td>738.0</td>\n",
       "      <td>737.0</td>\n",
       "      <td>55</td>\n",
       "      <td>55</td>\n",
       "      <td>Jefferson</td>\n",
       "      <td>6</td>\n",
       "      <td>County</td>\n",
       "    </tr>\n",
       "  </tbody>\n",
       "</table>\n",
       "<p>5 rows × 108 columns</p>\n",
       "</div>"
      ],
      "text/plain": [
       "   activity_year                   lei  derived_msa-md state_code county_code  \\\n",
       "0           2021  549300FQ2SN6TRRGB032           99999         WI       55055   \n",
       "1           2021  254900HA4DQWAE0W3342           31540         WI       55025   \n",
       "2           2021  549300FQ2SN6TRRGB032           99999         WI       55113   \n",
       "3           2021  254900HA4DQWAE0W3342           33460         WI       55093   \n",
       "4           2021  549300FQ2SN6TRRGB032           99999         WI       55055   \n",
       "\n",
       "  census_tract conforming_loan_limit derived_loan_product_type  \\\n",
       "0  55055100602                     C   Conventional:First Lien   \n",
       "1  55025012700                     C   Conventional:First Lien   \n",
       "2  55113100500                     C   Conventional:First Lien   \n",
       "3  55093960700                     C   Conventional:First Lien   \n",
       "4  55055101201                     C   Conventional:First Lien   \n",
       "\n",
       "              derived_dwelling_category        derived_ethnicity  ...  \\\n",
       "0  Single Family (1-4 Units):Site-Built   Not Hispanic or Latino  ...   \n",
       "1  Single Family (1-4 Units):Site-Built  Ethnicity Not Available  ...   \n",
       "2  Single Family (1-4 Units):Site-Built   Not Hispanic or Latino  ...   \n",
       "3  Single Family (1-4 Units):Site-Built  Ethnicity Not Available  ...   \n",
       "4  Single Family (1-4 Units):Site-Built   Not Hispanic or Latino  ...   \n",
       "\n",
       "  tract_median_age_of_housing_units     AREA  PERIMETER  CO99_D00_  \\\n",
       "0                                38  0.16668    1.65070      738.0   \n",
       "1                                27  0.35443    2.51806      717.0   \n",
       "2                                34  0.40534    2.78246      335.0   \n",
       "3                                41  0.17400    1.85148      475.0   \n",
       "4                                55  0.16668    1.65070      738.0   \n",
       "\n",
       "   CO99_D00_I  STATE  COUNTY       NAME  LSAD  LSAD_TRANS  \n",
       "0       737.0     55      55  Jefferson     6      County  \n",
       "1       716.0     55      25       Dane     6      County  \n",
       "2       334.0     55     113     Sawyer     6      County  \n",
       "3       474.0     55      93     Pierce     6      County  \n",
       "4       737.0     55      55  Jefferson     6      County  \n",
       "\n",
       "[5 rows x 108 columns]"
      ]
     },
     "execution_count": 22,
     "metadata": {},
     "output_type": "execute_result"
    }
   ],
   "source": [
    "#q7\n",
    "spark.sql(\"\"\"\n",
    "select *\n",
    "from loans l\n",
    "inner join counties c on l.county_code = c.STATE*1000 + c.COUNTY\n",
    "\"\"\").limit(5).toPandas()"
   ]
  },
  {
   "cell_type": "code",
   "execution_count": 23,
   "id": "b3104ed9-3877-44e0-a241-91f77ad308eb",
   "metadata": {},
   "outputs": [
    {
     "name": "stdout",
     "output_type": "stream",
     "text": [
      "== Physical Plan ==\n",
      "AdaptiveSparkPlan isFinalPlan=false\n",
      "+- HashAggregate(keys=[county_code#998], functions=[count(1)])\n",
      "   +- HashAggregate(keys=[county_code#998], functions=[partial_count(1)])\n",
      "      +- FileScan parquet spark_catalog.default.loans[county_code#998] Batched: true, Bucketed: true, DataFilters: [], Format: Parquet, Location: InMemoryFileIndex(1 paths)[hdfs://nn:9000/user/hive/warehouse/loans], PartitionFilters: [], PushedFilters: [], ReadSchema: struct<county_code:string>, SelectedBucketsCount: 8 out of 8\n",
      "\n",
      "\n"
     ]
    }
   ],
   "source": [
    "#q8\n",
    "#+- Exchange hashpartitioning(lei#995, 200), ENSURE_REQUIREMENTS, [plan_id=763] => network is only needed for grouping lei, as we only use bucket on county_code\n",
    "spark.sql(\"\"\"\n",
    "select count(*)\n",
    "from loans l\n",
    "group by l.county_code\n",
    "\"\"\").explain()"
   ]
  },
  {
   "cell_type": "code",
   "execution_count": 24,
   "id": "bd4df303-ff32-45b4-85f2-8aedc5ce4700",
   "metadata": {},
   "outputs": [
    {
     "name": "stdout",
     "output_type": "stream",
     "text": [
      "== Physical Plan ==\n",
      "AdaptiveSparkPlan isFinalPlan=false\n",
      "+- HashAggregate(keys=[lei#995], functions=[count(1)])\n",
      "   +- Exchange hashpartitioning(lei#995, 200), ENSURE_REQUIREMENTS, [plan_id=763]\n",
      "      +- HashAggregate(keys=[lei#995], functions=[partial_count(1)])\n",
      "         +- FileScan parquet spark_catalog.default.loans[lei#995] Batched: true, Bucketed: false (bucket column(s) not read), DataFilters: [], Format: Parquet, Location: InMemoryFileIndex(1 paths)[hdfs://nn:9000/user/hive/warehouse/loans], PartitionFilters: [], PushedFilters: [], ReadSchema: struct<lei:string>\n",
      "\n",
      "\n"
     ]
    }
   ],
   "source": [
    "spark.sql(\"\"\"\n",
    "select count(*)\n",
    "from loans l\n",
    "group by l.lei\n",
    "\"\"\").explain()"
   ]
  },
  {
   "cell_type": "code",
   "execution_count": 25,
   "id": "5d90b5b3-a083-44b5-afb2-ea4c01a78aea",
   "metadata": {},
   "outputs": [
    {
     "data": {
      "text/plain": [
       "pyspark.sql.dataframe.DataFrame"
      ]
     },
     "execution_count": 25,
     "metadata": {},
     "output_type": "execute_result"
    }
   ],
   "source": [
    "type(loans)\n",
    "#loans.select('loan_amount', 'income', 'interest_rate', 'action_taken').toPandas()"
   ]
  },
  {
   "cell_type": "code",
   "execution_count": 26,
   "id": "096ae208-d0d8-4dd0-88c0-79b2eb7f5138",
   "metadata": {},
   "outputs": [],
   "source": [
    "from pyspark.sql.functions import col\n",
    "from pyspark.sql.functions import when\n",
    "loans = spark.table('loans')\n",
    "mlcolumns = ['loan_amount', 'income', 'interest_rate','action_taken']\n",
    "changed = mlcolumns[0:-1]\n",
    "mldf = loans.select(mlcolumns)\n",
    "for colname in changed:\n",
    "    mldf = mldf.withColumn(colname, col(colname).cast('double'))\n",
    "mldf = mldf.withColumnRenamed(\"action_taken\",\"approval\")\n",
    "mldf = mldf.fillna(0, subset=changed)\n",
    "mldf = mldf.withColumn(\"approval\", when(col(\"approval\") != 1, 0).otherwise(1))\n"
   ]
  },
  {
   "cell_type": "code",
   "execution_count": 27,
   "id": "db512202-6fec-4d4b-be2d-39393570a48d",
   "metadata": {},
   "outputs": [
    {
     "data": {
      "text/html": [
       "<div>\n",
       "<style scoped>\n",
       "    .dataframe tbody tr th:only-of-type {\n",
       "        vertical-align: middle;\n",
       "    }\n",
       "\n",
       "    .dataframe tbody tr th {\n",
       "        vertical-align: top;\n",
       "    }\n",
       "\n",
       "    .dataframe thead th {\n",
       "        text-align: right;\n",
       "    }\n",
       "</style>\n",
       "<table border=\"1\" class=\"dataframe\">\n",
       "  <thead>\n",
       "    <tr style=\"text-align: right;\">\n",
       "      <th></th>\n",
       "      <th>loan_amount</th>\n",
       "      <th>income</th>\n",
       "      <th>interest_rate</th>\n",
       "      <th>approval</th>\n",
       "    </tr>\n",
       "  </thead>\n",
       "  <tbody>\n",
       "    <tr>\n",
       "      <th>0</th>\n",
       "      <td>255000.0</td>\n",
       "      <td>210.0</td>\n",
       "      <td>0.000</td>\n",
       "      <td>1</td>\n",
       "    </tr>\n",
       "    <tr>\n",
       "      <th>1</th>\n",
       "      <td>435000.0</td>\n",
       "      <td>0.0</td>\n",
       "      <td>3.125</td>\n",
       "      <td>0</td>\n",
       "    </tr>\n",
       "    <tr>\n",
       "      <th>2</th>\n",
       "      <td>435000.0</td>\n",
       "      <td>190.0</td>\n",
       "      <td>0.000</td>\n",
       "      <td>1</td>\n",
       "    </tr>\n",
       "  </tbody>\n",
       "</table>\n",
       "</div>"
      ],
      "text/plain": [
       "   loan_amount  income  interest_rate  approval\n",
       "0     255000.0   210.0          0.000         1\n",
       "1     435000.0     0.0          3.125         0\n",
       "2     435000.0   190.0          0.000         1"
      ]
     },
     "execution_count": 27,
     "metadata": {},
     "output_type": "execute_result"
    }
   ],
   "source": [
    "mldf.limit(3).toPandas()"
   ]
  },
  {
   "cell_type": "code",
   "execution_count": 28,
   "id": "7ee691a8-0939-47c6-bb73-1835850a510f",
   "metadata": {},
   "outputs": [
    {
     "data": {
      "text/plain": [
       "DataFrame[loan_amount: double, income: double, interest_rate: double, approval: int]"
      ]
     },
     "execution_count": 28,
     "metadata": {},
     "output_type": "execute_result"
    }
   ],
   "source": [
    "train, test = mldf.randomSplit([0.8, 0.2], seed=41)\n",
    "train.cache()"
   ]
  },
  {
   "cell_type": "code",
   "execution_count": 29,
   "id": "7ddb1262-3daa-4709-8ce9-a354fd249f48",
   "metadata": {},
   "outputs": [
    {
     "data": {
      "text/plain": [
       "[('loan_amount', 'double'),\n",
       " ('income', 'double'),\n",
       " ('interest_rate', 'double'),\n",
       " ('approval', 'int')]"
      ]
     },
     "execution_count": 29,
     "metadata": {},
     "output_type": "execute_result"
    }
   ],
   "source": [
    "mldf.dtypes"
   ]
  },
  {
   "cell_type": "code",
   "execution_count": 30,
   "id": "1b67ba59-d420-4620-a5cf-4dd184deaf7d",
   "metadata": {},
   "outputs": [
    {
     "name": "stderr",
     "output_type": "stream",
     "text": [
      "                                                                                \r"
     ]
    },
    {
     "data": {
      "text/plain": [
       "242868"
      ]
     },
     "execution_count": 30,
     "metadata": {},
     "output_type": "execute_result"
    }
   ],
   "source": [
    "#q9\n",
    "train.filter(train['approval']==1).count()"
   ]
  },
  {
   "cell_type": "code",
   "execution_count": 31,
   "id": "36104a50-d302-424b-b9dc-bca2759be136",
   "metadata": {},
   "outputs": [
    {
     "name": "stderr",
     "output_type": "stream",
     "text": [
      "                                                                                \r"
     ]
    },
    {
     "name": "stdout",
     "output_type": "stream",
     "text": [
      "DecisionTreeClassificationModel: uid=DecisionTreeClassifier_ab15894b8280, depth=5, numNodes=19, numClasses=2, numFeatures=3\n",
      "  If (feature 2 <= 0.495)\n",
      "   If (feature 1 <= 0.5)\n",
      "    If (feature 0 <= 380000.0)\n",
      "     Predict: 0.0\n",
      "    Else (feature 0 > 380000.0)\n",
      "     If (feature 0 <= 550000.0)\n",
      "      Predict: 0.0\n",
      "     Else (feature 0 > 550000.0)\n",
      "      If (feature 1 <= -13.5)\n",
      "       Predict: 0.0\n",
      "      Else (feature 1 > -13.5)\n",
      "       Predict: 1.0\n",
      "   Else (feature 1 > 0.5)\n",
      "    Predict: 0.0\n",
      "  Else (feature 2 > 0.495)\n",
      "   If (feature 1 <= 0.5)\n",
      "    If (feature 2 <= 2.4995000000000003)\n",
      "     Predict: 1.0\n",
      "    Else (feature 2 > 2.4995000000000003)\n",
      "     If (feature 0 <= 550000.0)\n",
      "      If (feature 0 <= 160000.0)\n",
      "       Predict: 1.0\n",
      "      Else (feature 0 > 160000.0)\n",
      "       Predict: 0.0\n",
      "     Else (feature 0 > 550000.0)\n",
      "      Predict: 1.0\n",
      "   Else (feature 1 > 0.5)\n",
      "    Predict: 1.0\n",
      "\n"
     ]
    }
   ],
   "source": [
    "from pyspark.ml.feature import VectorAssembler\n",
    "from pyspark.ml.classification import DecisionTreeClassifier\n",
    "from pyspark.ml.feature import VectorAssembler\n",
    "from pyspark.ml.pipeline import Pipeline, PipelineModel\n",
    "from pyspark.ml.evaluation import MulticlassClassificationEvaluator\n",
    "va = VectorAssembler(inputCols=changed, outputCol=\"features\")\n",
    "dt = DecisionTreeClassifier(featuresCol=\"features\", labelCol=\"approval\", maxDepth=5)\n",
    "pipe = Pipeline(stages=[va, dt])\n",
    "model = pipe.fit(train)\n",
    "print(model.stages[1].toDebugString)\n",
    "result = model.transform(test)"
   ]
  },
  {
   "cell_type": "code",
   "execution_count": 32,
   "id": "1f3cbe09-f8b5-4d53-bfd6-05a20b5d2d07",
   "metadata": {},
   "outputs": [
    {
     "name": "stderr",
     "output_type": "stream",
     "text": [
      "                                                                                \r"
     ]
    },
    {
     "data": {
      "text/plain": [
       "0.8933759280490655"
      ]
     },
     "execution_count": 32,
     "metadata": {},
     "output_type": "execute_result"
    }
   ],
   "source": [
    "#q10\n",
    "evaluator = MulticlassClassificationEvaluator(predictionCol=\"prediction\", labelCol=\"approval\", metricName=\"accuracy\")\n",
    "evaluator.evaluate(model.transform(test))"
   ]
  },
  {
   "cell_type": "code",
   "execution_count": null,
   "id": "b3cf7314-ee63-4f50-8a67-b02a310bfb03",
   "metadata": {},
   "outputs": [],
   "source": []
  }
 ],
 "metadata": {
  "kernelspec": {
   "display_name": "Python 3 (ipykernel)",
   "language": "python",
   "name": "python3"
  },
  "language_info": {
   "codemirror_mode": {
    "name": "ipython",
    "version": 3
   },
   "file_extension": ".py",
   "mimetype": "text/x-python",
   "name": "python",
   "nbconvert_exporter": "python",
   "pygments_lexer": "ipython3",
   "version": "3.10.12"
  }
 },
 "nbformat": 4,
 "nbformat_minor": 5
}
