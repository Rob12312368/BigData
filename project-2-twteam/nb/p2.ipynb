{
 "cells": [
  {
   "cell_type": "code",
   "execution_count": 1,
   "id": "3520c280-922d-47c7-8714-d765e3f6c08c",
   "metadata": {},
   "outputs": [],
   "source": [
    "import pandas as pd\n",
    "import torch"
   ]
  },
  {
   "cell_type": "code",
   "execution_count": 2,
   "id": "5b3bed4e-46e0-4b41-8d44-bea040705220",
   "metadata": {},
   "outputs": [
    {
     "data": {
      "text/html": [
       "<div>\n",
       "<style scoped>\n",
       "    .dataframe tbody tr th:only-of-type {\n",
       "        vertical-align: middle;\n",
       "    }\n",
       "\n",
       "    .dataframe tbody tr th {\n",
       "        vertical-align: top;\n",
       "    }\n",
       "\n",
       "    .dataframe thead th {\n",
       "        text-align: right;\n",
       "    }\n",
       "</style>\n",
       "<table border=\"1\" class=\"dataframe\">\n",
       "  <thead>\n",
       "    <tr style=\"text-align: right;\">\n",
       "      <th></th>\n",
       "      <th>POS_0_9_CP</th>\n",
       "      <th>POS_10_19_CP</th>\n",
       "      <th>POS_20_29_CP</th>\n",
       "      <th>POS_30_39_CP</th>\n",
       "      <th>POS_40_49_CP</th>\n",
       "      <th>POS_50_59_CP</th>\n",
       "      <th>POS_60_69_CP</th>\n",
       "      <th>POS_70_79_CP</th>\n",
       "      <th>POS_80_89_CP</th>\n",
       "      <th>POS_90_CP</th>\n",
       "      <th>DTH_CUM_CP</th>\n",
       "    </tr>\n",
       "  </thead>\n",
       "  <tbody>\n",
       "    <tr>\n",
       "      <th>0</th>\n",
       "      <td>24</td>\n",
       "      <td>51</td>\n",
       "      <td>44</td>\n",
       "      <td>51</td>\n",
       "      <td>60</td>\n",
       "      <td>75</td>\n",
       "      <td>72</td>\n",
       "      <td>61</td>\n",
       "      <td>27</td>\n",
       "      <td>0</td>\n",
       "      <td>3</td>\n",
       "    </tr>\n",
       "    <tr>\n",
       "      <th>1</th>\n",
       "      <td>22</td>\n",
       "      <td>31</td>\n",
       "      <td>214</td>\n",
       "      <td>177</td>\n",
       "      <td>62</td>\n",
       "      <td>46</td>\n",
       "      <td>24</td>\n",
       "      <td>9</td>\n",
       "      <td>0</td>\n",
       "      <td>0</td>\n",
       "      <td>2</td>\n",
       "    </tr>\n",
       "    <tr>\n",
       "      <th>2</th>\n",
       "      <td>84</td>\n",
       "      <td>126</td>\n",
       "      <td>239</td>\n",
       "      <td>194</td>\n",
       "      <td>159</td>\n",
       "      <td>171</td>\n",
       "      <td>125</td>\n",
       "      <td>74</td>\n",
       "      <td>24</td>\n",
       "      <td>8</td>\n",
       "      <td>9</td>\n",
       "    </tr>\n",
       "    <tr>\n",
       "      <th>3</th>\n",
       "      <td>65</td>\n",
       "      <td>76</td>\n",
       "      <td>80</td>\n",
       "      <td>110</td>\n",
       "      <td>82</td>\n",
       "      <td>81</td>\n",
       "      <td>55</td>\n",
       "      <td>49</td>\n",
       "      <td>56</td>\n",
       "      <td>34</td>\n",
       "      <td>7</td>\n",
       "    </tr>\n",
       "    <tr>\n",
       "      <th>4</th>\n",
       "      <td>99</td>\n",
       "      <td>107</td>\n",
       "      <td>339</td>\n",
       "      <td>287</td>\n",
       "      <td>139</td>\n",
       "      <td>147</td>\n",
       "      <td>110</td>\n",
       "      <td>71</td>\n",
       "      <td>37</td>\n",
       "      <td>0</td>\n",
       "      <td>12</td>\n",
       "    </tr>\n",
       "    <tr>\n",
       "      <th>...</th>\n",
       "      <td>...</td>\n",
       "      <td>...</td>\n",
       "      <td>...</td>\n",
       "      <td>...</td>\n",
       "      <td>...</td>\n",
       "      <td>...</td>\n",
       "      <td>...</td>\n",
       "      <td>...</td>\n",
       "      <td>...</td>\n",
       "      <td>...</td>\n",
       "      <td>...</td>\n",
       "    </tr>\n",
       "    <tr>\n",
       "      <th>1039</th>\n",
       "      <td>86</td>\n",
       "      <td>201</td>\n",
       "      <td>206</td>\n",
       "      <td>202</td>\n",
       "      <td>240</td>\n",
       "      <td>317</td>\n",
       "      <td>225</td>\n",
       "      <td>138</td>\n",
       "      <td>48</td>\n",
       "      <td>0</td>\n",
       "      <td>7</td>\n",
       "    </tr>\n",
       "    <tr>\n",
       "      <th>1040</th>\n",
       "      <td>80</td>\n",
       "      <td>102</td>\n",
       "      <td>125</td>\n",
       "      <td>124</td>\n",
       "      <td>104</td>\n",
       "      <td>71</td>\n",
       "      <td>70</td>\n",
       "      <td>36</td>\n",
       "      <td>6</td>\n",
       "      <td>0</td>\n",
       "      <td>6</td>\n",
       "    </tr>\n",
       "    <tr>\n",
       "      <th>1041</th>\n",
       "      <td>268</td>\n",
       "      <td>358</td>\n",
       "      <td>277</td>\n",
       "      <td>415</td>\n",
       "      <td>355</td>\n",
       "      <td>332</td>\n",
       "      <td>215</td>\n",
       "      <td>107</td>\n",
       "      <td>47</td>\n",
       "      <td>7</td>\n",
       "      <td>5</td>\n",
       "    </tr>\n",
       "    <tr>\n",
       "      <th>1042</th>\n",
       "      <td>81</td>\n",
       "      <td>116</td>\n",
       "      <td>90</td>\n",
       "      <td>145</td>\n",
       "      <td>118</td>\n",
       "      <td>113</td>\n",
       "      <td>70</td>\n",
       "      <td>36</td>\n",
       "      <td>9</td>\n",
       "      <td>0</td>\n",
       "      <td>2</td>\n",
       "    </tr>\n",
       "    <tr>\n",
       "      <th>1043</th>\n",
       "      <td>118</td>\n",
       "      <td>156</td>\n",
       "      <td>197</td>\n",
       "      <td>215</td>\n",
       "      <td>114</td>\n",
       "      <td>114</td>\n",
       "      <td>83</td>\n",
       "      <td>19</td>\n",
       "      <td>0</td>\n",
       "      <td>0</td>\n",
       "      <td>5</td>\n",
       "    </tr>\n",
       "  </tbody>\n",
       "</table>\n",
       "<p>1044 rows × 11 columns</p>\n",
       "</div>"
      ],
      "text/plain": [
       "      POS_0_9_CP  POS_10_19_CP  POS_20_29_CP  POS_30_39_CP  POS_40_49_CP  \\\n",
       "0             24            51            44            51            60   \n",
       "1             22            31           214           177            62   \n",
       "2             84           126           239           194           159   \n",
       "3             65            76            80           110            82   \n",
       "4             99           107           339           287           139   \n",
       "...          ...           ...           ...           ...           ...   \n",
       "1039          86           201           206           202           240   \n",
       "1040          80           102           125           124           104   \n",
       "1041         268           358           277           415           355   \n",
       "1042          81           116            90           145           118   \n",
       "1043         118           156           197           215           114   \n",
       "\n",
       "      POS_50_59_CP  POS_60_69_CP  POS_70_79_CP  POS_80_89_CP  POS_90_CP  \\\n",
       "0               75            72            61            27          0   \n",
       "1               46            24             9             0          0   \n",
       "2              171           125            74            24          8   \n",
       "3               81            55            49            56         34   \n",
       "4              147           110            71            37          0   \n",
       "...            ...           ...           ...           ...        ...   \n",
       "1039           317           225           138            48          0   \n",
       "1040            71            70            36             6          0   \n",
       "1041           332           215           107            47          7   \n",
       "1042           113            70            36             9          0   \n",
       "1043           114            83            19             0          0   \n",
       "\n",
       "      DTH_CUM_CP  \n",
       "0              3  \n",
       "1              2  \n",
       "2              9  \n",
       "3              7  \n",
       "4             12  \n",
       "...          ...  \n",
       "1039           7  \n",
       "1040           6  \n",
       "1041           5  \n",
       "1042           2  \n",
       "1043           5  \n",
       "\n",
       "[1044 rows x 11 columns]"
      ]
     },
     "execution_count": 2,
     "metadata": {},
     "output_type": "execute_result"
    }
   ],
   "source": [
    "df = pd.read_csv('train.csv')\n",
    "test = pd.read_csv('test.csv')\n",
    "df"
   ]
  },
  {
   "cell_type": "code",
   "execution_count": 3,
   "id": "d4893413-1b81-4de7-a011-fa73afb7983e",
   "metadata": {},
   "outputs": [
    {
     "data": {
      "text/plain": [
       "array([[ 24,  51,  44, ...,  27,   0,   3],\n",
       "       [ 22,  31, 214, ...,   0,   0,   2],\n",
       "       [ 84, 126, 239, ...,  24,   8,   9],\n",
       "       ...,\n",
       "       [268, 358, 277, ...,  47,   7,   5],\n",
       "       [ 81, 116,  90, ...,   9,   0,   2],\n",
       "       [118, 156, 197, ...,   0,   0,   5]])"
      ]
     },
     "execution_count": 3,
     "metadata": {},
     "output_type": "execute_result"
    }
   ],
   "source": [
    "df.values"
   ]
  },
  {
   "cell_type": "code",
   "execution_count": 4,
   "id": "80f1a40e-0566-4006-8630-7f4e996f34a6",
   "metadata": {},
   "outputs": [
    {
     "data": {
      "text/plain": [
       "tensor([[3.],\n",
       "        [2.],\n",
       "        [9.],\n",
       "        ...,\n",
       "        [5.],\n",
       "        [2.],\n",
       "        [5.]], dtype=torch.float64)"
      ]
     },
     "execution_count": 4,
     "metadata": {},
     "output_type": "execute_result"
    }
   ],
   "source": [
    "trainX = torch.tensor(df.loc[:,'POS_0_9_CP':'POS_90_CP'].values,dtype = torch.float64)\n",
    "trainY = torch.tensor(df.loc[:,'DTH_CUM_CP'].values,dtype = torch.float64).reshape(-1,1)\n",
    "testX = torch.tensor(test.loc[:,'POS_0_9_CP':'POS_90_CP'].values,dtype = torch.float64)\n",
    "testY = torch.tensor(test.loc[:,'DTH_CUM_CP'].values,dtype = torch.float64).reshape(-1,1)\n",
    "trainY"
   ]
  },
  {
   "cell_type": "code",
   "execution_count": 5,
   "id": "8d7bf227-ada8-4e35-846d-8665a21f62c4",
   "metadata": {},
   "outputs": [
    {
     "data": {
      "text/plain": [
       "tensor([[3.],\n",
       "        [2.],\n",
       "        [9.],\n",
       "        ...,\n",
       "        [5.],\n",
       "        [2.],\n",
       "        [5.]], dtype=torch.float64)"
      ]
     },
     "execution_count": 5,
     "metadata": {},
     "output_type": "execute_result"
    }
   ],
   "source": [
    "trainY"
   ]
  },
  {
   "cell_type": "markdown",
   "id": "4c8c0eab-500a-456a-848c-a3152c4e8b56",
   "metadata": {},
   "source": [
    "## Q1: about how many bytes does trainX consume?\n",
    "### Ans: (64/8)bytes * (1043-0+1)rows * (10)columns = 8 * 1044 * 10 = 83520"
   ]
  },
  {
   "cell_type": "code",
   "execution_count": 6,
   "id": "750040d3-9f2b-4ad0-8095-3cdcfd851b63",
   "metadata": {},
   "outputs": [
    {
     "data": {
      "text/plain": [
       "83520"
      ]
     },
     "execution_count": 6,
     "metadata": {},
     "output_type": "execute_result"
    }
   ],
   "source": [
    "#q1\n",
    "trainX.element_size() * trainX.shape[0] * trainX.shape[1]"
   ]
  },
  {
   "cell_type": "markdown",
   "id": "d3de1fc9-3c17-4300-9a4d-dabc32ba7ba8",
   "metadata": {},
   "source": [
    "## Q2: what is the biggest difference we would have any one cell if we used float16 instead of float64? (do not understand)"
   ]
  },
  {
   "cell_type": "code",
   "execution_count": 7,
   "id": "96d6ee04-ae44-4984-88a9-888d0fc183b3",
   "metadata": {},
   "outputs": [
    {
     "data": {
      "text/plain": [
       "0.0"
      ]
     },
     "execution_count": 7,
     "metadata": {},
     "output_type": "execute_result"
    }
   ],
   "source": [
    "#q2\n",
    "tmp = trainX.to(torch.float16)\n",
    "tmp = tmp.to(torch.float64)\n",
    "float(torch.max(trainX - tmp))"
   ]
  },
  {
   "cell_type": "markdown",
   "id": "99c5c9d5-7b5b-4d53-91db-db5609feab84",
   "metadata": {},
   "source": [
    "## Q3: is a CUDA GPU available on your VM?"
   ]
  },
  {
   "cell_type": "code",
   "execution_count": 8,
   "id": "825dbe74-af9f-4fbc-9294-40e640771a80",
   "metadata": {},
   "outputs": [
    {
     "data": {
      "text/plain": [
       "False"
      ]
     },
     "execution_count": 8,
     "metadata": {},
     "output_type": "execute_result"
    }
   ],
   "source": [
    "#q3\n",
    "ans = False\n",
    "if torch.cuda.is_available():\n",
    "    ans = True\n",
    "ans"
   ]
  },
  {
   "cell_type": "code",
   "execution_count": 9,
   "id": "732b76b3-b784-4964-ab9f-aa511f4523e2",
   "metadata": {},
   "outputs": [
    {
     "data": {
      "text/plain": [
       "tensor([[0.0040],\n",
       "        [0.0040],\n",
       "        [0.0040],\n",
       "        [0.0040],\n",
       "        [0.0040],\n",
       "        [0.0040],\n",
       "        [0.0300],\n",
       "        [0.0300],\n",
       "        [0.0300],\n",
       "        [0.0300]], dtype=torch.float64)"
      ]
     },
     "execution_count": 9,
     "metadata": {},
     "output_type": "execute_result"
    }
   ],
   "source": [
    "coef = torch.tensor([\n",
    "        [0.0040],\n",
    "        [0.0040],\n",
    "        [0.0040],\n",
    "        [0.0040],\n",
    "        [0.0040],\n",
    "        [0.0040], # POS_50_59_CP\n",
    "        [0.0300], # POS_60_69_CP\n",
    "        [0.0300],\n",
    "        [0.0300],\n",
    "        [0.0300]\n",
    "], dtype=trainX.dtype)\n",
    "coef"
   ]
  },
  {
   "cell_type": "markdown",
   "id": "3fd6ed4b-35ea-419e-ac06-ee6d05ba889b",
   "metadata": {},
   "source": [
    "### Q4: what is the predicted number of deaths for the first census tract?"
   ]
  },
  {
   "cell_type": "code",
   "execution_count": 10,
   "id": "d9c47326-466c-4480-97db-f1b2e0a0733c",
   "metadata": {},
   "outputs": [
    {
     "data": {
      "text/plain": [
       "9.844"
      ]
     },
     "execution_count": 10,
     "metadata": {},
     "output_type": "execute_result"
    }
   ],
   "source": [
    "#q4\n",
    "result = testX[0] @ coef\n",
    "result.item()"
   ]
  },
  {
   "cell_type": "markdown",
   "id": "0da92c3f-aaeb-48fb-a80a-9763bb02e1b7",
   "metadata": {},
   "source": [
    "### Q5: what is the average number of predicted deaths, over the whole testX dataset?"
   ]
  },
  {
   "cell_type": "code",
   "execution_count": 11,
   "id": "332f553c-f1c8-4b38-8380-c999c80a0fee",
   "metadata": {},
   "outputs": [
    {
     "data": {
      "text/plain": [
       "12.073632183908048"
      ]
     },
     "execution_count": 11,
     "metadata": {},
     "output_type": "execute_result"
    }
   ],
   "source": [
    "#q5\n",
    "torch.mean(testX @ coef).item()"
   ]
  },
  {
   "cell_type": "markdown",
   "id": "347eda44-fe5c-4992-8222-c0b9ac890f20",
   "metadata": {},
   "source": [
    "### Q6: first, what is y when x is a tensor containing 0.0?"
   ]
  },
  {
   "cell_type": "code",
   "execution_count": 12,
   "id": "24a57f53-891e-47b7-b38c-a458c2e405c3",
   "metadata": {},
   "outputs": [
    {
     "data": {
      "text/plain": [
       "19.0"
      ]
     },
     "execution_count": 12,
     "metadata": {},
     "output_type": "execute_result"
    }
   ],
   "source": [
    "#q6\n",
    "def f(x):\n",
    "    return x ** 2 - 8 * x + 19\n",
    "x = torch.tensor(0.0,requires_grad = True)\n",
    "y = f(x)\n",
    "float(y)"
   ]
  },
  {
   "cell_type": "markdown",
   "id": "4aba7122-1ba2-4e56-82f7-00fd34c5fd3a",
   "metadata": {},
   "source": [
    "### Q7: what x value minimizes y?"
   ]
  },
  {
   "cell_type": "code",
   "execution_count": 13,
   "id": "bdc2d6df-a522-46a7-92f8-0d8219d036b1",
   "metadata": {},
   "outputs": [
    {
     "data": {
      "text/plain": [
       "3.999999523162842"
      ]
     },
     "execution_count": 13,
     "metadata": {},
     "output_type": "execute_result"
    }
   ],
   "source": [
    "#q7\n",
    "optimizer = torch.optim.SGD([x],lr = 0.1)\n",
    "for epoch in range(100):\n",
    "    y = f(x)\n",
    "    y.backward()\n",
    "    optimizer.step()\n",
    "    optimizer.zero_grad()\n",
    "float(x)"
   ]
  },
  {
   "cell_type": "markdown",
   "id": "1b326842-6721-4cc8-9d46-d60eb8afbdc3",
   "metadata": {},
   "source": [
    "### Q8: what is the MSE (mean-square error) when we make predictions using this vector of zero coefficients?"
   ]
  },
  {
   "cell_type": "code",
   "execution_count": 14,
   "id": "37e6fc4b-a085-4401-9728-ed8b73e341de",
   "metadata": {},
   "outputs": [
    {
     "data": {
      "text/plain": [
       "197.8007662835249"
      ]
     },
     "execution_count": 14,
     "metadata": {},
     "output_type": "execute_result"
    }
   ],
   "source": [
    "#q8\n",
    "coef = torch.zeros(trainX.shape[1],1,dtype = torch.float64)\n",
    "ans = trainX @ coef\n",
    "loss_fn = torch.nn.MSELoss()\n",
    "float(loss_fn(ans,trainY))"
   ]
  },
  {
   "cell_type": "markdown",
   "id": "757163a6-c7cb-47e0-a0fd-653d0792a2db",
   "metadata": {},
   "source": [
    "### Q9: what is the MSE over the training data, using the coefficients resulting from the above training?"
   ]
  },
  {
   "cell_type": "code",
   "execution_count": 15,
   "id": "9c044fab-05d3-4dce-828d-e78eddb5e496",
   "metadata": {},
   "outputs": [],
   "source": [
    "torch.manual_seed(544)\n",
    "ds = torch.utils.data.TensorDataset(trainX, trainY)\n",
    "dl = torch.utils.data.DataLoader(ds, batch_size = 50, shuffle = True)"
   ]
  },
  {
   "cell_type": "code",
   "execution_count": 16,
   "id": "facfec12-6930-4d43-a455-d6c29294ea55",
   "metadata": {},
   "outputs": [
    {
     "data": {
      "text/plain": [
       "26.8113940147193"
      ]
     },
     "execution_count": 16,
     "metadata": {},
     "output_type": "execute_result"
    }
   ],
   "source": [
    "#q9\n",
    "coef = torch.zeros((trainX.shape[1],1),requires_grad = True,dtype = torch.float64)\n",
    "optimizer = torch.optim.SGD([coef],lr = 0.000002)\n",
    "ans = 0\n",
    "for epoch in range(500):\n",
    "    for trainx, trainy in dl:\n",
    "        predict = trainx @ coef\n",
    "        ans = loss_fn(predict,trainy)\n",
    "        ans.backward()\n",
    "        optimizer.step()\n",
    "        optimizer.zero_grad()\n",
    "loss_fn(trainX @ coef, trainY).item()"
   ]
  },
  {
   "cell_type": "markdown",
   "id": "2f7f3d67-8450-407b-8661-fcc5c6564e4c",
   "metadata": {},
   "source": [
    "### Q10: what is the MSE over the test data?"
   ]
  },
  {
   "cell_type": "code",
   "execution_count": 17,
   "id": "e1f24352-bb05-452c-a43d-498ae117b1ec",
   "metadata": {},
   "outputs": [
    {
     "data": {
      "text/plain": [
       "29.05854692548551"
      ]
     },
     "execution_count": 17,
     "metadata": {},
     "output_type": "execute_result"
    }
   ],
   "source": [
    "#q10\n",
    "loss_fn(testX @ coef, testY).item()"
   ]
  },
  {
   "cell_type": "code",
   "execution_count": null,
   "id": "34c2ec73-d3b7-4100-b2af-5ac3bcb7ef66",
   "metadata": {},
   "outputs": [],
   "source": []
  }
 ],
 "metadata": {
  "kernelspec": {
   "display_name": "Python 3 (ipykernel)",
   "language": "python",
   "name": "python3"
  },
  "language_info": {
   "codemirror_mode": {
    "name": "ipython",
    "version": 3
   },
   "file_extension": ".py",
   "mimetype": "text/x-python",
   "name": "python",
   "nbconvert_exporter": "python",
   "pygments_lexer": "ipython3",
   "version": "3.11.5"
  }
 },
 "nbformat": 4,
 "nbformat_minor": 5
}
