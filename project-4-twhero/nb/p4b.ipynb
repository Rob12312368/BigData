{
 "cells": [
  {
   "cell_type": "markdown",
   "id": "a4a45890-2a8e-47d6-a272-9d5f11149e76",
   "metadata": {},
   "source": [
    "# Part 4: Disaster Strikes"
   ]
  },
  {
   "cell_type": "code",
   "execution_count": 11,
   "id": "22e7de40-ce9d-466c-9855-9adedb16a757",
   "metadata": {},
   "outputs": [
    {
     "name": "stdout",
     "output_type": "stream",
     "text": [
      "Configured Capacity: 25821052928 (24.05 GB)\n",
      "Present Capacity: 11464846221 (10.68 GB)\n",
      "DFS Remaining: 11193565184 (10.42 GB)\n",
      "DFS Used: 271281037 (258.71 MB)\n",
      "DFS Used%: 2.37%\n",
      "Replicated Blocks:\n",
      "\tUnder replicated blocks: 167\n",
      "\tBlocks with corrupt replicas: 0\n",
      "\tMissing blocks: 77\n",
      "\tMissing blocks (with replication factor 1): 77\n",
      "\tLow redundancy blocks with highest priority to recover: 167\n",
      "\tPending deletion blocks: 0\n",
      "Erasure Coded Block Groups: \n",
      "\tLow redundancy block groups: 0\n",
      "\tBlock groups with corrupt internal blocks: 0\n",
      "\tMissing block groups: 0\n",
      "\tLow redundancy blocks with highest priority to recover: 0\n",
      "\tPending deletion blocks: 0\n",
      "\n",
      "-------------------------------------------------\n",
      "Live datanodes (1):\n",
      "\n",
      "Name: 172.18.0.4:9866 (project-4-twhero-dn-2.project-4-twhero_default)\n",
      "Hostname: abe275c95fbb\n",
      "Decommission Status : Normal\n",
      "Configured Capacity: 25821052928 (24.05 GB)\n",
      "DFS Used: 271281037 (258.71 MB)\n",
      "Non DFS Used: 14339429491 (13.35 GB)\n",
      "DFS Remaining: 11193565184 (10.42 GB)\n",
      "DFS Used%: 1.05%\n",
      "DFS Remaining%: 43.35%\n",
      "Configured Cache Capacity: 0 (0 B)\n",
      "Cache Used: 0 (0 B)\n",
      "Cache Remaining: 0 (0 B)\n",
      "Cache Used%: 100.00%\n",
      "Cache Remaining%: 0.00%\n",
      "Xceivers: 0\n",
      "Last contact: Mon Oct 23 00:35:36 GMT 2023\n",
      "Last Block Report: Mon Oct 23 00:20:40 GMT 2023\n",
      "Num of Blocks: 257\n",
      "\n",
      "\n",
      "Dead datanodes (1):\n",
      "\n",
      "Name: 172.18.0.5:9866 (172.18.0.5)\n",
      "Hostname: 93320eaec5e0\n",
      "Decommission Status : Normal\n",
      "Configured Capacity: 25821052928 (24.05 GB)\n",
      "DFS Used: 257712367 (245.77 MB)\n",
      "Non DFS Used: 14352953105 (13.37 GB)\n",
      "DFS Remaining: 11193610240 (10.42 GB)\n",
      "DFS Used%: 1.00%\n",
      "DFS Remaining%: 43.35%\n",
      "Configured Cache Capacity: 0 (0 B)\n",
      "Cache Used: 0 (0 B)\n",
      "Cache Remaining: 0 (0 B)\n",
      "Cache Used%: 100.00%\n",
      "Cache Remaining%: 0.00%\n",
      "Xceivers: 0\n",
      "Last contact: Mon Oct 23 00:32:42 GMT 2023\n",
      "Last Block Report: Mon Oct 23 00:20:40 GMT 2023\n",
      "Num of Blocks: 0\n",
      "\n",
      "\n"
     ]
    }
   ],
   "source": [
    "#q8\n",
    "!hdfs dfsadmin -fs hdfs://boss:9000/ -report"
   ]
  },
  {
   "cell_type": "code",
   "execution_count": null,
   "id": "6d12f95a-72ec-43dc-8ef0-209b7308c521",
   "metadata": {},
   "outputs": [],
   "source": [
    "import time\n",
    "time.sleep(30)"
   ]
  },
  {
   "cell_type": "code",
   "execution_count": 12,
   "id": "b9c64114-8edf-4554-a8ea-3117f7fb62de",
   "metadata": {},
   "outputs": [
    {
     "data": {
      "text/plain": [
       "{'lost': 77, 'abe275c95fbb:9864': 90}"
      ]
     },
     "execution_count": 12,
     "metadata": {},
     "output_type": "execute_result"
    }
   ],
   "source": [
    "#q9\n",
    "import requests\n",
    "import math\n",
    "leftblock = []\n",
    "distrib = {}\n",
    "offset = 0\n",
    "length = 1048576\n",
    "r = requests.get(\"http://boss:9870/webhdfs/v1/single.csv?op=GETFILESTATUS\")\n",
    "myrange = math.ceil(r.json()['FileStatus']['length'] / r.json()['FileStatus']['blockSize'])\n",
    "for i in range(myrange):\n",
    "    r = requests.get(f\"http://boss:9870/webhdfs/v1/single.csv?op=OPEN&offset={offset}&length={length}&noredirect=true\")\n",
    "    if r.status_code == 403:\n",
    "        distrib['lost'] = distrib.get('lost',0) + 1\n",
    "    else:\n",
    "        id = r.json()['Location'].split('/')[2]\n",
    "        distrib[id] = distrib.get(id,0) + 1\n",
    "        leftblock.append(offset)\n",
    "    offset += length\n",
    "distrib"
   ]
  },
  {
   "cell_type": "code",
   "execution_count": 13,
   "id": "aaa365ea-25b4-4bf2-9f01-9a9904e074e5",
   "metadata": {},
   "outputs": [
    {
     "name": "stderr",
     "output_type": "stream",
     "text": [
      "2023-10-23 00:36:45,107 WARN util.NativeCodeLoader: Unable to load native-hadoop library for your platform... using builtin-java classes where applicable\n"
     ]
    },
    {
     "data": {
      "text/plain": [
       "240072"
      ]
     },
     "execution_count": 13,
     "metadata": {},
     "output_type": "execute_result"
    }
   ],
   "source": [
    "#q10\n",
    "import pyarrow as pa\n",
    "import pyarrow.fs\n",
    "mycount = 0\n",
    "hdfs = pa.fs.HadoopFileSystem('boss', 9000)\n",
    "with hdfs.open_input_file('/single.csv') as f:\n",
    "    for b in leftblock:\n",
    "        blockdata = f.read_at(1048576,b).decode('utf-8')\n",
    "        mycount += blockdata.count('Single Family')\n",
    "mycount"
   ]
  },
  {
   "cell_type": "code",
   "execution_count": null,
   "id": "2747f8c2-4df9-432f-b67d-c45ba20d6d25",
   "metadata": {},
   "outputs": [],
   "source": []
  }
 ],
 "metadata": {
  "kernelspec": {
   "display_name": "Python 3 (ipykernel)",
   "language": "python",
   "name": "python3"
  },
  "language_info": {
   "codemirror_mode": {
    "name": "ipython",
    "version": 3
   },
   "file_extension": ".py",
   "mimetype": "text/x-python",
   "name": "python",
   "nbconvert_exporter": "python",
   "pygments_lexer": "ipython3",
   "version": "3.10.12"
  }
 },
 "nbformat": 4,
 "nbformat_minor": 5
}
