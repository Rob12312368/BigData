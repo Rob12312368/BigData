{
 "cells": [
  {
   "cell_type": "markdown",
   "id": "8dfb34a3-e737-4e2d-90ae-464cd35b734a",
   "metadata": {},
   "source": [
    "# Part1: Deployment and Data Upload"
   ]
  },
  {
   "cell_type": "code",
   "execution_count": 1,
   "id": "602715c1-502e-444d-a3e8-a50ff317449a",
   "metadata": {},
   "outputs": [
    {
     "name": "stdout",
     "output_type": "stream",
     "text": [
      "p4a.ipynb  p4b.ipynb\n"
     ]
    }
   ],
   "source": [
    "!ls"
   ]
  },
  {
   "cell_type": "code",
   "execution_count": 2,
   "id": "64837ddb-deca-47cf-87f3-670803f7af1d",
   "metadata": {},
   "outputs": [
    {
     "name": "stdout",
     "output_type": "stream",
     "text": [
      "/nb\n"
     ]
    }
   ],
   "source": [
    "!pwd"
   ]
  },
  {
   "cell_type": "code",
   "execution_count": 2,
   "id": "2d859e30-374a-4591-98f6-1465d3dc3794",
   "metadata": {},
   "outputs": [
    {
     "name": "stdout",
     "output_type": "stream",
     "text": [
      "Configured Capacity: 51642105856 (48.10 GB)\n",
      "Present Capacity: 23415353344 (21.81 GB)\n",
      "DFS Remaining: 23415300096 (21.81 GB)\n",
      "DFS Used: 53248 (52 KB)\n",
      "DFS Used%: 0.00%\n",
      "Replicated Blocks:\n",
      "\tUnder replicated blocks: 0\n",
      "\tBlocks with corrupt replicas: 0\n",
      "\tMissing blocks: 0\n",
      "\tMissing blocks (with replication factor 1): 0\n",
      "\tLow redundancy blocks with highest priority to recover: 0\n",
      "\tPending deletion blocks: 0\n",
      "Erasure Coded Block Groups: \n",
      "\tLow redundancy block groups: 0\n",
      "\tBlock groups with corrupt internal blocks: 0\n",
      "\tMissing block groups: 0\n",
      "\tLow redundancy blocks with highest priority to recover: 0\n",
      "\tPending deletion blocks: 0\n",
      "\n",
      "-------------------------------------------------\n",
      "Live datanodes (2):\n",
      "\n",
      "Name: 172.20.0.3:9866 (project-4-twhero-dn-2.project-4-twhero_default)\n",
      "Hostname: 1a2d05ddcf1d\n",
      "Decommission Status : Normal\n",
      "Configured Capacity: 25821052928 (24.05 GB)\n",
      "DFS Used: 28672 (28 KB)\n",
      "Non DFS Used: 14096596992 (13.13 GB)\n",
      "DFS Remaining: 11707650048 (10.90 GB)\n",
      "DFS Used%: 0.00%\n",
      "DFS Remaining%: 45.34%\n",
      "Configured Cache Capacity: 0 (0 B)\n",
      "Cache Used: 0 (0 B)\n",
      "Cache Remaining: 0 (0 B)\n",
      "Cache Used%: 100.00%\n",
      "Cache Remaining%: 0.00%\n",
      "Xceivers: 0\n",
      "Last contact: Mon Oct 23 20:07:00 GMT 2023\n",
      "Last Block Report: Mon Oct 23 19:57:09 GMT 2023\n",
      "Num of Blocks: 0\n",
      "\n",
      "\n",
      "Name: 172.20.0.5:9866 (project-4-twhero-dn-1.project-4-twhero_default)\n",
      "Hostname: 6ae4c72e4ce7\n",
      "Decommission Status : Normal\n",
      "Configured Capacity: 25821052928 (24.05 GB)\n",
      "DFS Used: 24576 (24 KB)\n",
      "Non DFS Used: 14096601088 (13.13 GB)\n",
      "DFS Remaining: 11707650048 (10.90 GB)\n",
      "DFS Used%: 0.00%\n",
      "DFS Remaining%: 45.34%\n",
      "Configured Cache Capacity: 0 (0 B)\n",
      "Cache Used: 0 (0 B)\n",
      "Cache Remaining: 0 (0 B)\n",
      "Cache Used%: 100.00%\n",
      "Cache Remaining%: 0.00%\n",
      "Xceivers: 0\n",
      "Last contact: Mon Oct 23 20:07:00 GMT 2023\n",
      "Last Block Report: Mon Oct 23 19:57:09 GMT 2023\n",
      "Num of Blocks: 0\n",
      "\n",
      "\n"
     ]
    }
   ],
   "source": [
    "#q1\n",
    "!hdfs dfsadmin -fs hdfs://boss:9000/ -report"
   ]
  },
  {
   "cell_type": "code",
   "execution_count": 6,
   "id": "66a73a5e-aa98-43fe-a2f6-b3c701c7c257",
   "metadata": {},
   "outputs": [
    {
     "name": "stdout",
     "output_type": "stream",
     "text": [
      "--2023-10-21 00:36:06--  https://pages.cs.wisc.edu/~harter/cs544/data/hdma-wi-2021.csv\n",
      "Resolving pages.cs.wisc.edu (pages.cs.wisc.edu)... 128.105.7.9\n",
      "Connecting to pages.cs.wisc.edu (pages.cs.wisc.edu)|128.105.7.9|:443... connected.\n",
      "HTTP request sent, awaiting response... 200 OK\n",
      "Length: 174944099 (167M) [text/csv]\n",
      "Saving to: ‘hdma-wi-2021.csv’\n",
      "\n",
      "hdma-wi-2021.csv    100%[===================>] 166.84M  7.80MB/s    in 20s     \n",
      "\n",
      "2023-10-21 00:36:26 (8.53 MB/s) - ‘hdma-wi-2021.csv’ saved [174944099/174944099]\n",
      "\n"
     ]
    }
   ],
   "source": [
    "!wget https://pages.cs.wisc.edu/~harter/cs544/data/hdma-wi-2021.csv"
   ]
  },
  {
   "cell_type": "code",
   "execution_count": 6,
   "id": "a71b5b7a-a6ae-4e5c-9ff0-5a8d17043623",
   "metadata": {},
   "outputs": [
    {
     "name": "stdout",
     "output_type": "stream",
     "text": [
      "Deleted hdfs://boss:9000/single.csv\n",
      "Deleted hdfs://boss:9000/double.csv\n"
     ]
    }
   ],
   "source": [
    "!hdfs dfs -rm -f hdfs://boss:9000/single.csv\n",
    "!hdfs dfs -rm -f hdfs://boss:9000/double.csv"
   ]
  },
  {
   "cell_type": "code",
   "execution_count": 7,
   "id": "9a36a77d-148d-447e-be8d-743a516ad397",
   "metadata": {},
   "outputs": [],
   "source": [
    "!hdfs dfs -D dfs.replication=1 -D dfs.block.size=1048576 -cp ./hdma-wi-2021.csv hdfs://boss:9000/single.csv\n",
    "!hdfs dfs -D dfs.replication=2 -D dfs.block.size=1048576 -cp ./hdma-wi-2021.csv hdfs://boss:9000/double.csv"
   ]
  },
  {
   "cell_type": "code",
   "execution_count": 4,
   "id": "1ce3355b-c93f-4c21-a427-bdeaafb00a92",
   "metadata": {},
   "outputs": [
    {
     "name": "stdout",
     "output_type": "stream",
     "text": [
      "166.8 M  333.7 M  hdfs://boss:9000/double.csv\n",
      "166.8 M  166.8 M  hdfs://boss:9000/single.csv\n"
     ]
    }
   ],
   "source": [
    "#q2\n",
    "!hdfs dfs -du -h hdfs://boss:9000/"
   ]
  },
  {
   "cell_type": "markdown",
   "id": "4149652e-f9b5-40eb-b643-21644522e42c",
   "metadata": {},
   "source": [
    "# Part 2: WebHDFS"
   ]
  },
  {
   "cell_type": "code",
   "execution_count": 9,
   "id": "731a9be1-182c-4927-9ded-0b570d35d6bc",
   "metadata": {},
   "outputs": [
    {
     "data": {
      "text/plain": [
       "{'FileStatus': {'accessTime': 1698006412933,\n",
       "  'blockSize': 1048576,\n",
       "  'childrenNum': 0,\n",
       "  'fileId': 16388,\n",
       "  'group': 'supergroup',\n",
       "  'length': 174944099,\n",
       "  'modificationTime': 1698006417265,\n",
       "  'owner': 'root',\n",
       "  'pathSuffix': '',\n",
       "  'permission': '644',\n",
       "  'replication': 1,\n",
       "  'storagePolicy': 0,\n",
       "  'type': 'FILE'}}"
      ]
     },
     "execution_count": 9,
     "metadata": {},
     "output_type": "execute_result"
    }
   ],
   "source": [
    "#q3\n",
    "import requests\n",
    "r = requests.get(\"http://boss:9870/webhdfs/v1/single.csv?op=GETFILESTATUS\")\n",
    "r.json()"
   ]
  },
  {
   "cell_type": "code",
   "execution_count": 13,
   "id": "8d641abf-5b16-40b6-90c3-f701a8f8df8b",
   "metadata": {},
   "outputs": [
    {
     "name": "stdout",
     "output_type": "stream",
     "text": [
      "{\"Location\":\"http://1dfd0e6f5094:9864/webhdfs/v1/single.csv?op=OPEN&namenoderpcaddress=boss:9000&offset=0\"}"
     ]
    }
   ],
   "source": [
    "#q4\n",
    "!curl \"http://boss:9870/webhdfs/v1/single.csv?op=OPEN&offset=0&noredirect=true\""
   ]
  },
  {
   "cell_type": "code",
   "execution_count": 19,
   "id": "fe115257-637b-4c0c-ad4d-a8724eb3e11b",
   "metadata": {},
   "outputs": [
    {
     "data": {
      "text/plain": [
       "{'1dfd0e6f5094:9864': 87, '5d7c816ef0dc:9864': 80}"
      ]
     },
     "execution_count": 19,
     "metadata": {},
     "output_type": "execute_result"
    }
   ],
   "source": [
    "#q5\n",
    "import math\n",
    "distrib = {}\n",
    "offset = 0\n",
    "length = 1048576\n",
    "r = requests.get(\"http://boss:9870/webhdfs/v1/single.csv?op=GETFILESTATUS\")\n",
    "myrange = math.ceil(r.json()['FileStatus']['length'] / r.json()['FileStatus']['blockSize'])\n",
    "for i in range(myrange):\n",
    "    r = requests.get(f\"http://boss:9870/webhdfs/v1/single.csv?op=OPEN&offset={offset}&length={length}&noredirect=true\")\n",
    "    id = r.json()['Location'].split('/')[2]\n",
    "    distrib[id] = distrib.get(id,0) + 1\n",
    "    offset += length\n",
    "distrib"
   ]
  },
  {
   "cell_type": "markdown",
   "id": "2b9c4d56-9711-4cbe-9dcd-20f7be390215",
   "metadata": {},
   "source": [
    "# Part 3: PyArrow"
   ]
  },
  {
   "cell_type": "code",
   "execution_count": 9,
   "id": "809fc8a8-6856-448c-9952-f0f0ebec5921",
   "metadata": {},
   "outputs": [],
   "source": [
    "import pyarrow as pa\n",
    "import pyarrow.fs"
   ]
  },
  {
   "cell_type": "code",
   "execution_count": 10,
   "id": "f53b362e-4ec7-4311-a96e-503718a290ef",
   "metadata": {},
   "outputs": [
    {
     "name": "stderr",
     "output_type": "stream",
     "text": [
      "2023-10-23 20:12:55,221 WARN util.NativeCodeLoader: Unable to load native-hadoop library for your platform... using builtin-java classes where applicable\n"
     ]
    },
    {
     "data": {
      "text/plain": [
       "b'activity_y'"
      ]
     },
     "execution_count": 10,
     "metadata": {},
     "output_type": "execute_result"
    }
   ],
   "source": [
    "#q6\n",
    "hdfs = pa.fs.HadoopFileSystem('boss', 9000)\n",
    "tmp = None\n",
    "with hdfs.open_input_file('/single.csv') as f:\n",
    "    tmp = f.read_at(10,0)\n",
    "tmp"
   ]
  },
  {
   "cell_type": "code",
   "execution_count": 22,
   "id": "7bcf3909-7809-4f42-b7bd-aac8d774c411",
   "metadata": {},
   "outputs": [
    {
     "data": {
      "text/plain": [
       "444874"
      ]
     },
     "execution_count": 22,
     "metadata": {},
     "output_type": "execute_result"
    }
   ],
   "source": [
    "#q7\n",
    "import io\n",
    "mycount = 0\n",
    "with hdfs.open_input_file('/single.csv') as f:\n",
    "    reader = io.TextIOWrapper(io.BufferedReader(f))\n",
    "    for i,line in enumerate(reader):\n",
    "        if 'Single Family' in line:\n",
    "            mycount += 1\n",
    "mycount\n",
    "                                                           "
   ]
  },
  {
   "cell_type": "code",
   "execution_count": null,
   "id": "554e3e09-a00b-46f3-b356-4cbd3639b8d2",
   "metadata": {},
   "outputs": [],
   "source": []
  }
 ],
 "metadata": {
  "kernelspec": {
   "display_name": "Python 3 (ipykernel)",
   "language": "python",
   "name": "python3"
  },
  "language_info": {
   "codemirror_mode": {
    "name": "ipython",
    "version": 3
   },
   "file_extension": ".py",
   "mimetype": "text/x-python",
   "name": "python",
   "nbconvert_exporter": "python",
   "pygments_lexer": "ipython3",
   "version": "3.10.12"
  }
 },
 "nbformat": 4,
 "nbformat_minor": 5
}
