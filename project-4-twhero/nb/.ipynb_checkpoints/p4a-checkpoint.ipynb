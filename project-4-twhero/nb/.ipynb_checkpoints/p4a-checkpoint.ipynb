{
 "cells": [
  {
   "cell_type": "markdown",
   "id": "8dfb34a3-e737-4e2d-90ae-464cd35b734a",
   "metadata": {},
   "source": [
    "# Part1: Deployment and Data Upload"
   ]
  },
  {
   "cell_type": "code",
   "execution_count": 1,
   "id": "602715c1-502e-444d-a3e8-a50ff317449a",
   "metadata": {},
   "outputs": [
    {
     "name": "stdout",
     "output_type": "stream",
     "text": [
      "hdma-wi-2021.csv  p4a.ipynb  p4b.ipynb\n"
     ]
    }
   ],
   "source": [
    "!ls"
   ]
  },
  {
   "cell_type": "code",
   "execution_count": 2,
   "id": "64837ddb-deca-47cf-87f3-670803f7af1d",
   "metadata": {},
   "outputs": [
    {
     "name": "stdout",
     "output_type": "stream",
     "text": [
      "/nb\n"
     ]
    }
   ],
   "source": [
    "!pwd"
   ]
  },
  {
   "cell_type": "code",
   "execution_count": 3,
   "id": "2d859e30-374a-4591-98f6-1465d3dc3794",
   "metadata": {},
   "outputs": [
    {
     "name": "stdout",
     "output_type": "stream",
     "text": [
      "Configured Capacity: 51642105856 (48.10 GB)\n",
      "Present Capacity: 23469719552 (21.86 GB)\n",
      "DFS Remaining: 23469670400 (21.86 GB)\n",
      "DFS Used: 49152 (48 KB)\n",
      "DFS Used%: 0.00%\n",
      "Replicated Blocks:\n",
      "\tUnder replicated blocks: 0\n",
      "\tBlocks with corrupt replicas: 0\n",
      "\tMissing blocks: 0\n",
      "\tMissing blocks (with replication factor 1): 0\n",
      "\tLow redundancy blocks with highest priority to recover: 0\n",
      "\tPending deletion blocks: 0\n",
      "Erasure Coded Block Groups: \n",
      "\tLow redundancy block groups: 0\n",
      "\tBlock groups with corrupt internal blocks: 0\n",
      "\tMissing block groups: 0\n",
      "\tLow redundancy blocks with highest priority to recover: 0\n",
      "\tPending deletion blocks: 0\n",
      "\n",
      "-------------------------------------------------\n",
      "Live datanodes (2):\n",
      "\n",
      "Name: 172.22.0.4:9866 (project-4-twhero-dn-2.project-4-twhero_default)\n",
      "Hostname: 5d7c816ef0dc\n",
      "Decommission Status : Normal\n",
      "Configured Capacity: 25821052928 (24.05 GB)\n",
      "DFS Used: 24576 (24 KB)\n",
      "Non DFS Used: 14069415936 (13.10 GB)\n",
      "DFS Remaining: 11734835200 (10.93 GB)\n",
      "DFS Used%: 0.00%\n",
      "DFS Remaining%: 45.45%\n",
      "Configured Cache Capacity: 0 (0 B)\n",
      "Cache Used: 0 (0 B)\n",
      "Cache Remaining: 0 (0 B)\n",
      "Cache Used%: 100.00%\n",
      "Cache Remaining%: 0.00%\n",
      "Xceivers: 0\n",
      "Last contact: Sun Oct 22 20:25:55 GMT 2023\n",
      "Last Block Report: Sun Oct 22 20:24:04 GMT 2023\n",
      "Num of Blocks: 0\n",
      "\n",
      "\n",
      "Name: 172.22.0.5:9866 (project-4-twhero-dn-1.project-4-twhero_default)\n",
      "Hostname: 1dfd0e6f5094\n",
      "Decommission Status : Normal\n",
      "Configured Capacity: 25821052928 (24.05 GB)\n",
      "DFS Used: 24576 (24 KB)\n",
      "Non DFS Used: 14069415936 (13.10 GB)\n",
      "DFS Remaining: 11734835200 (10.93 GB)\n",
      "DFS Used%: 0.00%\n",
      "DFS Remaining%: 45.45%\n",
      "Configured Cache Capacity: 0 (0 B)\n",
      "Cache Used: 0 (0 B)\n",
      "Cache Remaining: 0 (0 B)\n",
      "Cache Used%: 100.00%\n",
      "Cache Remaining%: 0.00%\n",
      "Xceivers: 0\n",
      "Last contact: Sun Oct 22 20:25:55 GMT 2023\n",
      "Last Block Report: Sun Oct 22 20:24:04 GMT 2023\n",
      "Num of Blocks: 0\n",
      "\n",
      "\n"
     ]
    }
   ],
   "source": [
    "#q1\n",
    "!hdfs dfsadmin -fs hdfs://boss:9000/ -report"
   ]
  },
  {
   "cell_type": "code",
   "execution_count": 6,
   "id": "66a73a5e-aa98-43fe-a2f6-b3c701c7c257",
   "metadata": {},
   "outputs": [
    {
     "name": "stdout",
     "output_type": "stream",
     "text": [
      "--2023-10-21 00:36:06--  https://pages.cs.wisc.edu/~harter/cs544/data/hdma-wi-2021.csv\n",
      "Resolving pages.cs.wisc.edu (pages.cs.wisc.edu)... 128.105.7.9\n",
      "Connecting to pages.cs.wisc.edu (pages.cs.wisc.edu)|128.105.7.9|:443... connected.\n",
      "HTTP request sent, awaiting response... 200 OK\n",
      "Length: 174944099 (167M) [text/csv]\n",
      "Saving to: ‘hdma-wi-2021.csv’\n",
      "\n",
      "hdma-wi-2021.csv    100%[===================>] 166.84M  7.80MB/s    in 20s     \n",
      "\n",
      "2023-10-21 00:36:26 (8.53 MB/s) - ‘hdma-wi-2021.csv’ saved [174944099/174944099]\n",
      "\n"
     ]
    }
   ],
   "source": [
    "!wget https://pages.cs.wisc.edu/~harter/cs544/data/hdma-wi-2021.csv"
   ]
  },
  {
   "cell_type": "code",
   "execution_count": 6,
   "id": "a71b5b7a-a6ae-4e5c-9ff0-5a8d17043623",
   "metadata": {},
   "outputs": [
    {
     "name": "stdout",
     "output_type": "stream",
     "text": [
      "Deleted hdfs://boss:9000/single.csv\n",
      "Deleted hdfs://boss:9000/double.csv\n"
     ]
    }
   ],
   "source": [
    "!hdfs dfs -rm -f hdfs://boss:9000/single.csv\n",
    "!hdfs dfs -rm -f hdfs://boss:9000/double.csv"
   ]
  },
  {
   "cell_type": "code",
   "execution_count": 7,
   "id": "9a36a77d-148d-447e-be8d-743a516ad397",
   "metadata": {},
   "outputs": [],
   "source": [
    "!hdfs dfs -D dfs.replication=1 -D dfs.block.size=1048576 -cp ./hdma-wi-2021.csv hdfs://boss:9000/single.csv\n",
    "!hdfs dfs -D dfs.replication=2 -D dfs.block.size=1048576 -cp ./hdma-wi-2021.csv hdfs://boss:9000/double.csv"
   ]
  },
  {
   "cell_type": "code",
   "execution_count": 8,
   "id": "1ce3355b-c93f-4c21-a427-bdeaafb00a92",
   "metadata": {},
   "outputs": [
    {
     "name": "stdout",
     "output_type": "stream",
     "text": [
      "166.8 M  333.7 M  hdfs://boss:9000/double.csv\n",
      "166.8 M  166.8 M  hdfs://boss:9000/single.csv\n"
     ]
    }
   ],
   "source": [
    "#q2\n",
    "!hdfs dfs -du -h hdfs://boss:9000/"
   ]
  },
  {
   "cell_type": "markdown",
   "id": "4149652e-f9b5-40eb-b643-21644522e42c",
   "metadata": {},
   "source": [
    "# Part 2: WebHDFS"
   ]
  },
  {
   "cell_type": "code",
   "execution_count": 9,
   "id": "731a9be1-182c-4927-9ded-0b570d35d6bc",
   "metadata": {},
   "outputs": [
    {
     "data": {
      "text/plain": [
       "{'FileStatus': {'accessTime': 1698006412933,\n",
       "  'blockSize': 1048576,\n",
       "  'childrenNum': 0,\n",
       "  'fileId': 16388,\n",
       "  'group': 'supergroup',\n",
       "  'length': 174944099,\n",
       "  'modificationTime': 1698006417265,\n",
       "  'owner': 'root',\n",
       "  'pathSuffix': '',\n",
       "  'permission': '644',\n",
       "  'replication': 1,\n",
       "  'storagePolicy': 0,\n",
       "  'type': 'FILE'}}"
      ]
     },
     "execution_count": 9,
     "metadata": {},
     "output_type": "execute_result"
    }
   ],
   "source": [
    "#q3\n",
    "import requests\n",
    "r = requests.get(\"http://boss:9870/webhdfs/v1/single.csv?op=GETFILESTATUS\")\n",
    "r.json()"
   ]
  },
  {
   "cell_type": "code",
   "execution_count": 13,
   "id": "8d641abf-5b16-40b6-90c3-f701a8f8df8b",
   "metadata": {},
   "outputs": [
    {
     "name": "stdout",
     "output_type": "stream",
     "text": [
      "{\"Location\":\"http://4810f39e3bcd:9864/webhdfs/v1/single.csv?op=OPEN&namenoderpcaddress=boss:9000&offset=2\"}"
     ]
    }
   ],
   "source": [
    "!curl \"http://boss:9870/webhdfs/v1/single.csv?op=OPEN&offset=0&noredirect=true\""
   ]
  },
  {
   "cell_type": "code",
   "execution_count": 12,
   "id": "fe115257-637b-4c0c-ad4d-a8724eb3e11b",
   "metadata": {},
   "outputs": [
    {
     "name": "stdout",
     "output_type": "stream",
     "text": [
      "{'Location': 'http://1dfd0e6f5094:9864/webhdfs/v1/single.csv?op=OPEN&namenoderpcaddress=boss:9000&length=1048576&offset=0'}\n",
      "{'Location': 'http://1dfd0e6f5094:9864/webhdfs/v1/single.csv?op=OPEN&namenoderpcaddress=boss:9000&length=1048576&offset=1048576'}\n",
      "{'Location': 'http://1dfd0e6f5094:9864/webhdfs/v1/single.csv?op=OPEN&namenoderpcaddress=boss:9000&length=1048576&offset=2097152'}\n",
      "{'Location': 'http://5d7c816ef0dc:9864/webhdfs/v1/single.csv?op=OPEN&namenoderpcaddress=boss:9000&length=1048576&offset=3145728'}\n",
      "{'Location': 'http://1dfd0e6f5094:9864/webhdfs/v1/single.csv?op=OPEN&namenoderpcaddress=boss:9000&length=1048576&offset=4194304'}\n",
      "{'Location': 'http://1dfd0e6f5094:9864/webhdfs/v1/single.csv?op=OPEN&namenoderpcaddress=boss:9000&length=1048576&offset=5242880'}\n",
      "{'Location': 'http://5d7c816ef0dc:9864/webhdfs/v1/single.csv?op=OPEN&namenoderpcaddress=boss:9000&length=1048576&offset=6291456'}\n",
      "{'Location': 'http://1dfd0e6f5094:9864/webhdfs/v1/single.csv?op=OPEN&namenoderpcaddress=boss:9000&length=1048576&offset=7340032'}\n",
      "{'Location': 'http://1dfd0e6f5094:9864/webhdfs/v1/single.csv?op=OPEN&namenoderpcaddress=boss:9000&length=1048576&offset=8388608'}\n",
      "{'Location': 'http://5d7c816ef0dc:9864/webhdfs/v1/single.csv?op=OPEN&namenoderpcaddress=boss:9000&length=1048576&offset=9437184'}\n",
      "{'Location': 'http://1dfd0e6f5094:9864/webhdfs/v1/single.csv?op=OPEN&namenoderpcaddress=boss:9000&length=1048576&offset=10485760'}\n",
      "{'Location': 'http://1dfd0e6f5094:9864/webhdfs/v1/single.csv?op=OPEN&namenoderpcaddress=boss:9000&length=1048576&offset=11534336'}\n",
      "{'Location': 'http://5d7c816ef0dc:9864/webhdfs/v1/single.csv?op=OPEN&namenoderpcaddress=boss:9000&length=1048576&offset=12582912'}\n",
      "{'Location': 'http://5d7c816ef0dc:9864/webhdfs/v1/single.csv?op=OPEN&namenoderpcaddress=boss:9000&length=1048576&offset=13631488'}\n",
      "{'Location': 'http://5d7c816ef0dc:9864/webhdfs/v1/single.csv?op=OPEN&namenoderpcaddress=boss:9000&length=1048576&offset=14680064'}\n",
      "{'Location': 'http://5d7c816ef0dc:9864/webhdfs/v1/single.csv?op=OPEN&namenoderpcaddress=boss:9000&length=1048576&offset=15728640'}\n",
      "{'Location': 'http://5d7c816ef0dc:9864/webhdfs/v1/single.csv?op=OPEN&namenoderpcaddress=boss:9000&length=1048576&offset=16777216'}\n",
      "{'Location': 'http://5d7c816ef0dc:9864/webhdfs/v1/single.csv?op=OPEN&namenoderpcaddress=boss:9000&length=1048576&offset=17825792'}\n",
      "{'Location': 'http://5d7c816ef0dc:9864/webhdfs/v1/single.csv?op=OPEN&namenoderpcaddress=boss:9000&length=1048576&offset=18874368'}\n",
      "{'Location': 'http://1dfd0e6f5094:9864/webhdfs/v1/single.csv?op=OPEN&namenoderpcaddress=boss:9000&length=1048576&offset=19922944'}\n",
      "{'Location': 'http://1dfd0e6f5094:9864/webhdfs/v1/single.csv?op=OPEN&namenoderpcaddress=boss:9000&length=1048576&offset=20971520'}\n",
      "{'Location': 'http://1dfd0e6f5094:9864/webhdfs/v1/single.csv?op=OPEN&namenoderpcaddress=boss:9000&length=1048576&offset=22020096'}\n",
      "{'Location': 'http://1dfd0e6f5094:9864/webhdfs/v1/single.csv?op=OPEN&namenoderpcaddress=boss:9000&length=1048576&offset=23068672'}\n",
      "{'Location': 'http://1dfd0e6f5094:9864/webhdfs/v1/single.csv?op=OPEN&namenoderpcaddress=boss:9000&length=1048576&offset=24117248'}\n",
      "{'Location': 'http://1dfd0e6f5094:9864/webhdfs/v1/single.csv?op=OPEN&namenoderpcaddress=boss:9000&length=1048576&offset=25165824'}\n",
      "{'Location': 'http://1dfd0e6f5094:9864/webhdfs/v1/single.csv?op=OPEN&namenoderpcaddress=boss:9000&length=1048576&offset=26214400'}\n",
      "{'Location': 'http://1dfd0e6f5094:9864/webhdfs/v1/single.csv?op=OPEN&namenoderpcaddress=boss:9000&length=1048576&offset=27262976'}\n",
      "{'Location': 'http://1dfd0e6f5094:9864/webhdfs/v1/single.csv?op=OPEN&namenoderpcaddress=boss:9000&length=1048576&offset=28311552'}\n",
      "{'Location': 'http://1dfd0e6f5094:9864/webhdfs/v1/single.csv?op=OPEN&namenoderpcaddress=boss:9000&length=1048576&offset=29360128'}\n",
      "{'Location': 'http://1dfd0e6f5094:9864/webhdfs/v1/single.csv?op=OPEN&namenoderpcaddress=boss:9000&length=1048576&offset=30408704'}\n",
      "{'Location': 'http://1dfd0e6f5094:9864/webhdfs/v1/single.csv?op=OPEN&namenoderpcaddress=boss:9000&length=1048576&offset=31457280'}\n",
      "{'Location': 'http://5d7c816ef0dc:9864/webhdfs/v1/single.csv?op=OPEN&namenoderpcaddress=boss:9000&length=1048576&offset=32505856'}\n",
      "{'Location': 'http://1dfd0e6f5094:9864/webhdfs/v1/single.csv?op=OPEN&namenoderpcaddress=boss:9000&length=1048576&offset=33554432'}\n",
      "{'Location': 'http://1dfd0e6f5094:9864/webhdfs/v1/single.csv?op=OPEN&namenoderpcaddress=boss:9000&length=1048576&offset=34603008'}\n",
      "{'Location': 'http://5d7c816ef0dc:9864/webhdfs/v1/single.csv?op=OPEN&namenoderpcaddress=boss:9000&length=1048576&offset=35651584'}\n",
      "{'Location': 'http://1dfd0e6f5094:9864/webhdfs/v1/single.csv?op=OPEN&namenoderpcaddress=boss:9000&length=1048576&offset=36700160'}\n",
      "{'Location': 'http://1dfd0e6f5094:9864/webhdfs/v1/single.csv?op=OPEN&namenoderpcaddress=boss:9000&length=1048576&offset=37748736'}\n",
      "{'Location': 'http://5d7c816ef0dc:9864/webhdfs/v1/single.csv?op=OPEN&namenoderpcaddress=boss:9000&length=1048576&offset=38797312'}\n",
      "{'Location': 'http://1dfd0e6f5094:9864/webhdfs/v1/single.csv?op=OPEN&namenoderpcaddress=boss:9000&length=1048576&offset=39845888'}\n",
      "{'Location': 'http://5d7c816ef0dc:9864/webhdfs/v1/single.csv?op=OPEN&namenoderpcaddress=boss:9000&length=1048576&offset=40894464'}\n",
      "{'Location': 'http://1dfd0e6f5094:9864/webhdfs/v1/single.csv?op=OPEN&namenoderpcaddress=boss:9000&length=1048576&offset=41943040'}\n",
      "{'Location': 'http://5d7c816ef0dc:9864/webhdfs/v1/single.csv?op=OPEN&namenoderpcaddress=boss:9000&length=1048576&offset=42991616'}\n",
      "{'Location': 'http://5d7c816ef0dc:9864/webhdfs/v1/single.csv?op=OPEN&namenoderpcaddress=boss:9000&length=1048576&offset=44040192'}\n",
      "{'Location': 'http://1dfd0e6f5094:9864/webhdfs/v1/single.csv?op=OPEN&namenoderpcaddress=boss:9000&length=1048576&offset=45088768'}\n",
      "{'Location': 'http://5d7c816ef0dc:9864/webhdfs/v1/single.csv?op=OPEN&namenoderpcaddress=boss:9000&length=1048576&offset=46137344'}\n",
      "{'Location': 'http://5d7c816ef0dc:9864/webhdfs/v1/single.csv?op=OPEN&namenoderpcaddress=boss:9000&length=1048576&offset=47185920'}\n",
      "{'Location': 'http://1dfd0e6f5094:9864/webhdfs/v1/single.csv?op=OPEN&namenoderpcaddress=boss:9000&length=1048576&offset=48234496'}\n",
      "{'Location': 'http://5d7c816ef0dc:9864/webhdfs/v1/single.csv?op=OPEN&namenoderpcaddress=boss:9000&length=1048576&offset=49283072'}\n",
      "{'Location': 'http://1dfd0e6f5094:9864/webhdfs/v1/single.csv?op=OPEN&namenoderpcaddress=boss:9000&length=1048576&offset=50331648'}\n",
      "{'Location': 'http://1dfd0e6f5094:9864/webhdfs/v1/single.csv?op=OPEN&namenoderpcaddress=boss:9000&length=1048576&offset=51380224'}\n",
      "{'Location': 'http://1dfd0e6f5094:9864/webhdfs/v1/single.csv?op=OPEN&namenoderpcaddress=boss:9000&length=1048576&offset=52428800'}\n",
      "{'Location': 'http://1dfd0e6f5094:9864/webhdfs/v1/single.csv?op=OPEN&namenoderpcaddress=boss:9000&length=1048576&offset=53477376'}\n",
      "{'Location': 'http://5d7c816ef0dc:9864/webhdfs/v1/single.csv?op=OPEN&namenoderpcaddress=boss:9000&length=1048576&offset=54525952'}\n",
      "{'Location': 'http://1dfd0e6f5094:9864/webhdfs/v1/single.csv?op=OPEN&namenoderpcaddress=boss:9000&length=1048576&offset=55574528'}\n",
      "{'Location': 'http://1dfd0e6f5094:9864/webhdfs/v1/single.csv?op=OPEN&namenoderpcaddress=boss:9000&length=1048576&offset=56623104'}\n",
      "{'Location': 'http://5d7c816ef0dc:9864/webhdfs/v1/single.csv?op=OPEN&namenoderpcaddress=boss:9000&length=1048576&offset=57671680'}\n",
      "{'Location': 'http://1dfd0e6f5094:9864/webhdfs/v1/single.csv?op=OPEN&namenoderpcaddress=boss:9000&length=1048576&offset=58720256'}\n",
      "{'Location': 'http://1dfd0e6f5094:9864/webhdfs/v1/single.csv?op=OPEN&namenoderpcaddress=boss:9000&length=1048576&offset=59768832'}\n",
      "{'Location': 'http://5d7c816ef0dc:9864/webhdfs/v1/single.csv?op=OPEN&namenoderpcaddress=boss:9000&length=1048576&offset=60817408'}\n",
      "{'Location': 'http://1dfd0e6f5094:9864/webhdfs/v1/single.csv?op=OPEN&namenoderpcaddress=boss:9000&length=1048576&offset=61865984'}\n",
      "{'Location': 'http://1dfd0e6f5094:9864/webhdfs/v1/single.csv?op=OPEN&namenoderpcaddress=boss:9000&length=1048576&offset=62914560'}\n",
      "{'Location': 'http://1dfd0e6f5094:9864/webhdfs/v1/single.csv?op=OPEN&namenoderpcaddress=boss:9000&length=1048576&offset=63963136'}\n",
      "{'Location': 'http://5d7c816ef0dc:9864/webhdfs/v1/single.csv?op=OPEN&namenoderpcaddress=boss:9000&length=1048576&offset=65011712'}\n",
      "{'Location': 'http://5d7c816ef0dc:9864/webhdfs/v1/single.csv?op=OPEN&namenoderpcaddress=boss:9000&length=1048576&offset=66060288'}\n",
      "{'Location': 'http://5d7c816ef0dc:9864/webhdfs/v1/single.csv?op=OPEN&namenoderpcaddress=boss:9000&length=1048576&offset=67108864'}\n",
      "{'Location': 'http://5d7c816ef0dc:9864/webhdfs/v1/single.csv?op=OPEN&namenoderpcaddress=boss:9000&length=1048576&offset=68157440'}\n",
      "{'Location': 'http://1dfd0e6f5094:9864/webhdfs/v1/single.csv?op=OPEN&namenoderpcaddress=boss:9000&length=1048576&offset=69206016'}\n",
      "{'Location': 'http://1dfd0e6f5094:9864/webhdfs/v1/single.csv?op=OPEN&namenoderpcaddress=boss:9000&length=1048576&offset=70254592'}\n",
      "{'Location': 'http://1dfd0e6f5094:9864/webhdfs/v1/single.csv?op=OPEN&namenoderpcaddress=boss:9000&length=1048576&offset=71303168'}\n",
      "{'Location': 'http://1dfd0e6f5094:9864/webhdfs/v1/single.csv?op=OPEN&namenoderpcaddress=boss:9000&length=1048576&offset=72351744'}\n",
      "{'Location': 'http://5d7c816ef0dc:9864/webhdfs/v1/single.csv?op=OPEN&namenoderpcaddress=boss:9000&length=1048576&offset=73400320'}\n",
      "{'Location': 'http://5d7c816ef0dc:9864/webhdfs/v1/single.csv?op=OPEN&namenoderpcaddress=boss:9000&length=1048576&offset=74448896'}\n",
      "{'Location': 'http://1dfd0e6f5094:9864/webhdfs/v1/single.csv?op=OPEN&namenoderpcaddress=boss:9000&length=1048576&offset=75497472'}\n",
      "{'Location': 'http://5d7c816ef0dc:9864/webhdfs/v1/single.csv?op=OPEN&namenoderpcaddress=boss:9000&length=1048576&offset=76546048'}\n",
      "{'Location': 'http://1dfd0e6f5094:9864/webhdfs/v1/single.csv?op=OPEN&namenoderpcaddress=boss:9000&length=1048576&offset=77594624'}\n",
      "{'Location': 'http://5d7c816ef0dc:9864/webhdfs/v1/single.csv?op=OPEN&namenoderpcaddress=boss:9000&length=1048576&offset=78643200'}\n",
      "{'Location': 'http://5d7c816ef0dc:9864/webhdfs/v1/single.csv?op=OPEN&namenoderpcaddress=boss:9000&length=1048576&offset=79691776'}\n",
      "{'Location': 'http://5d7c816ef0dc:9864/webhdfs/v1/single.csv?op=OPEN&namenoderpcaddress=boss:9000&length=1048576&offset=80740352'}\n",
      "{'Location': 'http://5d7c816ef0dc:9864/webhdfs/v1/single.csv?op=OPEN&namenoderpcaddress=boss:9000&length=1048576&offset=81788928'}\n",
      "{'Location': 'http://5d7c816ef0dc:9864/webhdfs/v1/single.csv?op=OPEN&namenoderpcaddress=boss:9000&length=1048576&offset=82837504'}\n",
      "{'Location': 'http://5d7c816ef0dc:9864/webhdfs/v1/single.csv?op=OPEN&namenoderpcaddress=boss:9000&length=1048576&offset=83886080'}\n",
      "{'Location': 'http://5d7c816ef0dc:9864/webhdfs/v1/single.csv?op=OPEN&namenoderpcaddress=boss:9000&length=1048576&offset=84934656'}\n",
      "{'Location': 'http://5d7c816ef0dc:9864/webhdfs/v1/single.csv?op=OPEN&namenoderpcaddress=boss:9000&length=1048576&offset=85983232'}\n",
      "{'Location': 'http://5d7c816ef0dc:9864/webhdfs/v1/single.csv?op=OPEN&namenoderpcaddress=boss:9000&length=1048576&offset=87031808'}\n",
      "{'Location': 'http://5d7c816ef0dc:9864/webhdfs/v1/single.csv?op=OPEN&namenoderpcaddress=boss:9000&length=1048576&offset=88080384'}\n",
      "{'Location': 'http://1dfd0e6f5094:9864/webhdfs/v1/single.csv?op=OPEN&namenoderpcaddress=boss:9000&length=1048576&offset=89128960'}\n",
      "{'Location': 'http://1dfd0e6f5094:9864/webhdfs/v1/single.csv?op=OPEN&namenoderpcaddress=boss:9000&length=1048576&offset=90177536'}\n",
      "{'Location': 'http://1dfd0e6f5094:9864/webhdfs/v1/single.csv?op=OPEN&namenoderpcaddress=boss:9000&length=1048576&offset=91226112'}\n",
      "{'Location': 'http://1dfd0e6f5094:9864/webhdfs/v1/single.csv?op=OPEN&namenoderpcaddress=boss:9000&length=1048576&offset=92274688'}\n",
      "{'Location': 'http://5d7c816ef0dc:9864/webhdfs/v1/single.csv?op=OPEN&namenoderpcaddress=boss:9000&length=1048576&offset=93323264'}\n",
      "{'Location': 'http://1dfd0e6f5094:9864/webhdfs/v1/single.csv?op=OPEN&namenoderpcaddress=boss:9000&length=1048576&offset=94371840'}\n",
      "{'Location': 'http://5d7c816ef0dc:9864/webhdfs/v1/single.csv?op=OPEN&namenoderpcaddress=boss:9000&length=1048576&offset=95420416'}\n",
      "{'Location': 'http://1dfd0e6f5094:9864/webhdfs/v1/single.csv?op=OPEN&namenoderpcaddress=boss:9000&length=1048576&offset=96468992'}\n",
      "{'Location': 'http://1dfd0e6f5094:9864/webhdfs/v1/single.csv?op=OPEN&namenoderpcaddress=boss:9000&length=1048576&offset=97517568'}\n",
      "{'Location': 'http://1dfd0e6f5094:9864/webhdfs/v1/single.csv?op=OPEN&namenoderpcaddress=boss:9000&length=1048576&offset=98566144'}\n",
      "{'Location': 'http://5d7c816ef0dc:9864/webhdfs/v1/single.csv?op=OPEN&namenoderpcaddress=boss:9000&length=1048576&offset=99614720'}\n",
      "{'Location': 'http://1dfd0e6f5094:9864/webhdfs/v1/single.csv?op=OPEN&namenoderpcaddress=boss:9000&length=1048576&offset=100663296'}\n",
      "{'Location': 'http://1dfd0e6f5094:9864/webhdfs/v1/single.csv?op=OPEN&namenoderpcaddress=boss:9000&length=1048576&offset=101711872'}\n",
      "{'Location': 'http://5d7c816ef0dc:9864/webhdfs/v1/single.csv?op=OPEN&namenoderpcaddress=boss:9000&length=1048576&offset=102760448'}\n",
      "{'Location': 'http://5d7c816ef0dc:9864/webhdfs/v1/single.csv?op=OPEN&namenoderpcaddress=boss:9000&length=1048576&offset=103809024'}\n",
      "{'Location': 'http://1dfd0e6f5094:9864/webhdfs/v1/single.csv?op=OPEN&namenoderpcaddress=boss:9000&length=1048576&offset=104857600'}\n",
      "{'Location': 'http://1dfd0e6f5094:9864/webhdfs/v1/single.csv?op=OPEN&namenoderpcaddress=boss:9000&length=1048576&offset=105906176'}\n",
      "{'Location': 'http://1dfd0e6f5094:9864/webhdfs/v1/single.csv?op=OPEN&namenoderpcaddress=boss:9000&length=1048576&offset=106954752'}\n",
      "{'Location': 'http://1dfd0e6f5094:9864/webhdfs/v1/single.csv?op=OPEN&namenoderpcaddress=boss:9000&length=1048576&offset=108003328'}\n",
      "{'Location': 'http://5d7c816ef0dc:9864/webhdfs/v1/single.csv?op=OPEN&namenoderpcaddress=boss:9000&length=1048576&offset=109051904'}\n",
      "{'Location': 'http://5d7c816ef0dc:9864/webhdfs/v1/single.csv?op=OPEN&namenoderpcaddress=boss:9000&length=1048576&offset=110100480'}\n",
      "{'Location': 'http://1dfd0e6f5094:9864/webhdfs/v1/single.csv?op=OPEN&namenoderpcaddress=boss:9000&length=1048576&offset=111149056'}\n",
      "{'Location': 'http://5d7c816ef0dc:9864/webhdfs/v1/single.csv?op=OPEN&namenoderpcaddress=boss:9000&length=1048576&offset=112197632'}\n",
      "{'Location': 'http://5d7c816ef0dc:9864/webhdfs/v1/single.csv?op=OPEN&namenoderpcaddress=boss:9000&length=1048576&offset=113246208'}\n",
      "{'Location': 'http://5d7c816ef0dc:9864/webhdfs/v1/single.csv?op=OPEN&namenoderpcaddress=boss:9000&length=1048576&offset=114294784'}\n",
      "{'Location': 'http://1dfd0e6f5094:9864/webhdfs/v1/single.csv?op=OPEN&namenoderpcaddress=boss:9000&length=1048576&offset=115343360'}\n",
      "{'Location': 'http://5d7c816ef0dc:9864/webhdfs/v1/single.csv?op=OPEN&namenoderpcaddress=boss:9000&length=1048576&offset=116391936'}\n",
      "{'Location': 'http://5d7c816ef0dc:9864/webhdfs/v1/single.csv?op=OPEN&namenoderpcaddress=boss:9000&length=1048576&offset=117440512'}\n",
      "{'Location': 'http://5d7c816ef0dc:9864/webhdfs/v1/single.csv?op=OPEN&namenoderpcaddress=boss:9000&length=1048576&offset=118489088'}\n",
      "{'Location': 'http://1dfd0e6f5094:9864/webhdfs/v1/single.csv?op=OPEN&namenoderpcaddress=boss:9000&length=1048576&offset=119537664'}\n",
      "{'Location': 'http://1dfd0e6f5094:9864/webhdfs/v1/single.csv?op=OPEN&namenoderpcaddress=boss:9000&length=1048576&offset=120586240'}\n",
      "{'Location': 'http://1dfd0e6f5094:9864/webhdfs/v1/single.csv?op=OPEN&namenoderpcaddress=boss:9000&length=1048576&offset=121634816'}\n",
      "{'Location': 'http://1dfd0e6f5094:9864/webhdfs/v1/single.csv?op=OPEN&namenoderpcaddress=boss:9000&length=1048576&offset=122683392'}\n",
      "{'Location': 'http://5d7c816ef0dc:9864/webhdfs/v1/single.csv?op=OPEN&namenoderpcaddress=boss:9000&length=1048576&offset=123731968'}\n",
      "{'Location': 'http://5d7c816ef0dc:9864/webhdfs/v1/single.csv?op=OPEN&namenoderpcaddress=boss:9000&length=1048576&offset=124780544'}\n",
      "{'Location': 'http://5d7c816ef0dc:9864/webhdfs/v1/single.csv?op=OPEN&namenoderpcaddress=boss:9000&length=1048576&offset=125829120'}\n",
      "{'Location': 'http://5d7c816ef0dc:9864/webhdfs/v1/single.csv?op=OPEN&namenoderpcaddress=boss:9000&length=1048576&offset=126877696'}\n",
      "{'Location': 'http://1dfd0e6f5094:9864/webhdfs/v1/single.csv?op=OPEN&namenoderpcaddress=boss:9000&length=1048576&offset=127926272'}\n",
      "{'Location': 'http://1dfd0e6f5094:9864/webhdfs/v1/single.csv?op=OPEN&namenoderpcaddress=boss:9000&length=1048576&offset=128974848'}\n",
      "{'Location': 'http://5d7c816ef0dc:9864/webhdfs/v1/single.csv?op=OPEN&namenoderpcaddress=boss:9000&length=1048576&offset=130023424'}\n",
      "{'Location': 'http://1dfd0e6f5094:9864/webhdfs/v1/single.csv?op=OPEN&namenoderpcaddress=boss:9000&length=1048576&offset=131072000'}\n",
      "{'Location': 'http://1dfd0e6f5094:9864/webhdfs/v1/single.csv?op=OPEN&namenoderpcaddress=boss:9000&length=1048576&offset=132120576'}\n",
      "{'Location': 'http://1dfd0e6f5094:9864/webhdfs/v1/single.csv?op=OPEN&namenoderpcaddress=boss:9000&length=1048576&offset=133169152'}\n",
      "{'Location': 'http://5d7c816ef0dc:9864/webhdfs/v1/single.csv?op=OPEN&namenoderpcaddress=boss:9000&length=1048576&offset=134217728'}\n",
      "{'Location': 'http://5d7c816ef0dc:9864/webhdfs/v1/single.csv?op=OPEN&namenoderpcaddress=boss:9000&length=1048576&offset=135266304'}\n",
      "{'Location': 'http://1dfd0e6f5094:9864/webhdfs/v1/single.csv?op=OPEN&namenoderpcaddress=boss:9000&length=1048576&offset=136314880'}\n",
      "{'Location': 'http://5d7c816ef0dc:9864/webhdfs/v1/single.csv?op=OPEN&namenoderpcaddress=boss:9000&length=1048576&offset=137363456'}\n",
      "{'Location': 'http://5d7c816ef0dc:9864/webhdfs/v1/single.csv?op=OPEN&namenoderpcaddress=boss:9000&length=1048576&offset=138412032'}\n",
      "{'Location': 'http://5d7c816ef0dc:9864/webhdfs/v1/single.csv?op=OPEN&namenoderpcaddress=boss:9000&length=1048576&offset=139460608'}\n",
      "{'Location': 'http://1dfd0e6f5094:9864/webhdfs/v1/single.csv?op=OPEN&namenoderpcaddress=boss:9000&length=1048576&offset=140509184'}\n",
      "{'Location': 'http://5d7c816ef0dc:9864/webhdfs/v1/single.csv?op=OPEN&namenoderpcaddress=boss:9000&length=1048576&offset=141557760'}\n",
      "{'Location': 'http://5d7c816ef0dc:9864/webhdfs/v1/single.csv?op=OPEN&namenoderpcaddress=boss:9000&length=1048576&offset=142606336'}\n",
      "{'Location': 'http://5d7c816ef0dc:9864/webhdfs/v1/single.csv?op=OPEN&namenoderpcaddress=boss:9000&length=1048576&offset=143654912'}\n",
      "{'Location': 'http://1dfd0e6f5094:9864/webhdfs/v1/single.csv?op=OPEN&namenoderpcaddress=boss:9000&length=1048576&offset=144703488'}\n",
      "{'Location': 'http://5d7c816ef0dc:9864/webhdfs/v1/single.csv?op=OPEN&namenoderpcaddress=boss:9000&length=1048576&offset=145752064'}\n",
      "{'Location': 'http://5d7c816ef0dc:9864/webhdfs/v1/single.csv?op=OPEN&namenoderpcaddress=boss:9000&length=1048576&offset=146800640'}\n",
      "{'Location': 'http://1dfd0e6f5094:9864/webhdfs/v1/single.csv?op=OPEN&namenoderpcaddress=boss:9000&length=1048576&offset=147849216'}\n",
      "{'Location': 'http://5d7c816ef0dc:9864/webhdfs/v1/single.csv?op=OPEN&namenoderpcaddress=boss:9000&length=1048576&offset=148897792'}\n",
      "{'Location': 'http://5d7c816ef0dc:9864/webhdfs/v1/single.csv?op=OPEN&namenoderpcaddress=boss:9000&length=1048576&offset=149946368'}\n",
      "{'Location': 'http://5d7c816ef0dc:9864/webhdfs/v1/single.csv?op=OPEN&namenoderpcaddress=boss:9000&length=1048576&offset=150994944'}\n",
      "{'Location': 'http://1dfd0e6f5094:9864/webhdfs/v1/single.csv?op=OPEN&namenoderpcaddress=boss:9000&length=1048576&offset=152043520'}\n",
      "{'Location': 'http://5d7c816ef0dc:9864/webhdfs/v1/single.csv?op=OPEN&namenoderpcaddress=boss:9000&length=1048576&offset=153092096'}\n",
      "{'Location': 'http://5d7c816ef0dc:9864/webhdfs/v1/single.csv?op=OPEN&namenoderpcaddress=boss:9000&length=1048576&offset=154140672'}\n",
      "{'Location': 'http://5d7c816ef0dc:9864/webhdfs/v1/single.csv?op=OPEN&namenoderpcaddress=boss:9000&length=1048576&offset=155189248'}\n",
      "{'Location': 'http://1dfd0e6f5094:9864/webhdfs/v1/single.csv?op=OPEN&namenoderpcaddress=boss:9000&length=1048576&offset=156237824'}\n",
      "{'Location': 'http://1dfd0e6f5094:9864/webhdfs/v1/single.csv?op=OPEN&namenoderpcaddress=boss:9000&length=1048576&offset=157286400'}\n",
      "{'Location': 'http://5d7c816ef0dc:9864/webhdfs/v1/single.csv?op=OPEN&namenoderpcaddress=boss:9000&length=1048576&offset=158334976'}\n",
      "{'Location': 'http://5d7c816ef0dc:9864/webhdfs/v1/single.csv?op=OPEN&namenoderpcaddress=boss:9000&length=1048576&offset=159383552'}\n",
      "{'Location': 'http://1dfd0e6f5094:9864/webhdfs/v1/single.csv?op=OPEN&namenoderpcaddress=boss:9000&length=1048576&offset=160432128'}\n",
      "{'Location': 'http://1dfd0e6f5094:9864/webhdfs/v1/single.csv?op=OPEN&namenoderpcaddress=boss:9000&length=1048576&offset=161480704'}\n",
      "{'Location': 'http://5d7c816ef0dc:9864/webhdfs/v1/single.csv?op=OPEN&namenoderpcaddress=boss:9000&length=1048576&offset=162529280'}\n",
      "{'Location': 'http://1dfd0e6f5094:9864/webhdfs/v1/single.csv?op=OPEN&namenoderpcaddress=boss:9000&length=1048576&offset=163577856'}\n",
      "{'Location': 'http://1dfd0e6f5094:9864/webhdfs/v1/single.csv?op=OPEN&namenoderpcaddress=boss:9000&length=1048576&offset=164626432'}\n",
      "{'Location': 'http://5d7c816ef0dc:9864/webhdfs/v1/single.csv?op=OPEN&namenoderpcaddress=boss:9000&length=1048576&offset=165675008'}\n",
      "{'Location': 'http://5d7c816ef0dc:9864/webhdfs/v1/single.csv?op=OPEN&namenoderpcaddress=boss:9000&length=1048576&offset=166723584'}\n",
      "{'Location': 'http://1dfd0e6f5094:9864/webhdfs/v1/single.csv?op=OPEN&namenoderpcaddress=boss:9000&length=1048576&offset=167772160'}\n",
      "{'Location': 'http://5d7c816ef0dc:9864/webhdfs/v1/single.csv?op=OPEN&namenoderpcaddress=boss:9000&length=1048576&offset=168820736'}\n",
      "{'Location': 'http://1dfd0e6f5094:9864/webhdfs/v1/single.csv?op=OPEN&namenoderpcaddress=boss:9000&length=1048576&offset=169869312'}\n",
      "{'Location': 'http://1dfd0e6f5094:9864/webhdfs/v1/single.csv?op=OPEN&namenoderpcaddress=boss:9000&length=1048576&offset=170917888'}\n",
      "{'Location': 'http://1dfd0e6f5094:9864/webhdfs/v1/single.csv?op=OPEN&namenoderpcaddress=boss:9000&length=1048576&offset=171966464'}\n",
      "{'Location': 'http://1dfd0e6f5094:9864/webhdfs/v1/single.csv?op=OPEN&namenoderpcaddress=boss:9000&length=1048576&offset=173015040'}\n",
      "{'Location': 'http://5d7c816ef0dc:9864/webhdfs/v1/single.csv?op=OPEN&namenoderpcaddress=boss:9000&length=1048576&offset=174063616'}\n",
      "{'RemoteException': {'exception': 'IOException', 'javaClassName': 'java.io.IOException', 'message': 'Offset=175112192 out of the range [0, 174944099); OPEN, path=/single.csv'}}\n",
      "{'RemoteException': {'exception': 'IOException', 'javaClassName': 'java.io.IOException', 'message': 'Offset=176160768 out of the range [0, 174944099); OPEN, path=/single.csv'}}\n",
      "{'RemoteException': {'exception': 'IOException', 'javaClassName': 'java.io.IOException', 'message': 'Offset=177209344 out of the range [0, 174944099); OPEN, path=/single.csv'}}\n",
      "{'RemoteException': {'exception': 'IOException', 'javaClassName': 'java.io.IOException', 'message': 'Offset=178257920 out of the range [0, 174944099); OPEN, path=/single.csv'}}\n",
      "{'RemoteException': {'exception': 'IOException', 'javaClassName': 'java.io.IOException', 'message': 'Offset=179306496 out of the range [0, 174944099); OPEN, path=/single.csv'}}\n",
      "{'RemoteException': {'exception': 'IOException', 'javaClassName': 'java.io.IOException', 'message': 'Offset=180355072 out of the range [0, 174944099); OPEN, path=/single.csv'}}\n",
      "{'RemoteException': {'exception': 'IOException', 'javaClassName': 'java.io.IOException', 'message': 'Offset=181403648 out of the range [0, 174944099); OPEN, path=/single.csv'}}\n",
      "{'RemoteException': {'exception': 'IOException', 'javaClassName': 'java.io.IOException', 'message': 'Offset=182452224 out of the range [0, 174944099); OPEN, path=/single.csv'}}\n",
      "{'RemoteException': {'exception': 'IOException', 'javaClassName': 'java.io.IOException', 'message': 'Offset=183500800 out of the range [0, 174944099); OPEN, path=/single.csv'}}\n",
      "{'RemoteException': {'exception': 'IOException', 'javaClassName': 'java.io.IOException', 'message': 'Offset=184549376 out of the range [0, 174944099); OPEN, path=/single.csv'}}\n",
      "{'RemoteException': {'exception': 'IOException', 'javaClassName': 'java.io.IOException', 'message': 'Offset=185597952 out of the range [0, 174944099); OPEN, path=/single.csv'}}\n",
      "{'RemoteException': {'exception': 'IOException', 'javaClassName': 'java.io.IOException', 'message': 'Offset=186646528 out of the range [0, 174944099); OPEN, path=/single.csv'}}\n",
      "{'RemoteException': {'exception': 'IOException', 'javaClassName': 'java.io.IOException', 'message': 'Offset=187695104 out of the range [0, 174944099); OPEN, path=/single.csv'}}\n",
      "{'RemoteException': {'exception': 'IOException', 'javaClassName': 'java.io.IOException', 'message': 'Offset=188743680 out of the range [0, 174944099); OPEN, path=/single.csv'}}\n",
      "{'RemoteException': {'exception': 'IOException', 'javaClassName': 'java.io.IOException', 'message': 'Offset=189792256 out of the range [0, 174944099); OPEN, path=/single.csv'}}\n",
      "{'RemoteException': {'exception': 'IOException', 'javaClassName': 'java.io.IOException', 'message': 'Offset=190840832 out of the range [0, 174944099); OPEN, path=/single.csv'}}\n",
      "{'RemoteException': {'exception': 'IOException', 'javaClassName': 'java.io.IOException', 'message': 'Offset=191889408 out of the range [0, 174944099); OPEN, path=/single.csv'}}\n",
      "{'RemoteException': {'exception': 'IOException', 'javaClassName': 'java.io.IOException', 'message': 'Offset=192937984 out of the range [0, 174944099); OPEN, path=/single.csv'}}\n",
      "{'RemoteException': {'exception': 'IOException', 'javaClassName': 'java.io.IOException', 'message': 'Offset=193986560 out of the range [0, 174944099); OPEN, path=/single.csv'}}\n",
      "{'RemoteException': {'exception': 'IOException', 'javaClassName': 'java.io.IOException', 'message': 'Offset=195035136 out of the range [0, 174944099); OPEN, path=/single.csv'}}\n",
      "{'RemoteException': {'exception': 'IOException', 'javaClassName': 'java.io.IOException', 'message': 'Offset=196083712 out of the range [0, 174944099); OPEN, path=/single.csv'}}\n",
      "{'RemoteException': {'exception': 'IOException', 'javaClassName': 'java.io.IOException', 'message': 'Offset=197132288 out of the range [0, 174944099); OPEN, path=/single.csv'}}\n",
      "{'RemoteException': {'exception': 'IOException', 'javaClassName': 'java.io.IOException', 'message': 'Offset=198180864 out of the range [0, 174944099); OPEN, path=/single.csv'}}\n",
      "{'RemoteException': {'exception': 'IOException', 'javaClassName': 'java.io.IOException', 'message': 'Offset=199229440 out of the range [0, 174944099); OPEN, path=/single.csv'}}\n",
      "{'RemoteException': {'exception': 'IOException', 'javaClassName': 'java.io.IOException', 'message': 'Offset=200278016 out of the range [0, 174944099); OPEN, path=/single.csv'}}\n",
      "{'RemoteException': {'exception': 'IOException', 'javaClassName': 'java.io.IOException', 'message': 'Offset=201326592 out of the range [0, 174944099); OPEN, path=/single.csv'}}\n",
      "{'RemoteException': {'exception': 'IOException', 'javaClassName': 'java.io.IOException', 'message': 'Offset=202375168 out of the range [0, 174944099); OPEN, path=/single.csv'}}\n",
      "{'RemoteException': {'exception': 'IOException', 'javaClassName': 'java.io.IOException', 'message': 'Offset=203423744 out of the range [0, 174944099); OPEN, path=/single.csv'}}\n",
      "{'RemoteException': {'exception': 'IOException', 'javaClassName': 'java.io.IOException', 'message': 'Offset=204472320 out of the range [0, 174944099); OPEN, path=/single.csv'}}\n",
      "{'RemoteException': {'exception': 'IOException', 'javaClassName': 'java.io.IOException', 'message': 'Offset=205520896 out of the range [0, 174944099); OPEN, path=/single.csv'}}\n",
      "{'RemoteException': {'exception': 'IOException', 'javaClassName': 'java.io.IOException', 'message': 'Offset=206569472 out of the range [0, 174944099); OPEN, path=/single.csv'}}\n",
      "{'RemoteException': {'exception': 'IOException', 'javaClassName': 'java.io.IOException', 'message': 'Offset=207618048 out of the range [0, 174944099); OPEN, path=/single.csv'}}\n",
      "{'RemoteException': {'exception': 'IOException', 'javaClassName': 'java.io.IOException', 'message': 'Offset=208666624 out of the range [0, 174944099); OPEN, path=/single.csv'}}\n"
     ]
    }
   ],
   "source": [
    "offset = 0\n",
    "length = 1048576\n",
    "for i in range(200):\n",
    "    r = requests.get(f\"http://boss:9870/webhdfs/v1/single.csv?op=OPEN&offset={offset}&length={length}&noredirect=true\")\n",
    "    print(r.json())\n",
    "    offset += length"
   ]
  },
  {
   "cell_type": "code",
   "execution_count": 10,
   "id": "634c8271-38d5-4e49-ab98-191fe028ff2a",
   "metadata": {},
   "outputs": [
    {
     "name": "stdout",
     "output_type": "stream",
     "text": [
      "{'4810f39e3bcd': 167}\n"
     ]
    }
   ],
   "source": [
    "import math\n",
    "r = requests.get(\"http://boss:9870/webhdfs/v1/single.csv?op=GETFILESTATUS\")\n",
    "r = r.json()\n",
    "myrange = math.ceil(r['FileStatus']['length'] / r['FileStatus']['blockSize'])\n",
    "count = {}\n",
    "for i in range(myrange):\n",
    "    r = requests.get(\"http://boss:9870/webhdfs/v1/single.csv?op=OPEN&length=1048576&offset=\" + str(i) + \"&noredirect=true\")\n",
    "    k = r.json()['Location'].split('/')[2].split(':')[0]\n",
    "    count[k] = count.get(k,0) + 1\n",
    "print(count)"
   ]
  },
  {
   "cell_type": "code",
   "execution_count": 70,
   "id": "809fc8a8-6856-448c-9952-f0f0ebec5921",
   "metadata": {},
   "outputs": [],
   "source": [
    "import pyarrow as pa\n",
    "import pyarrow.fs"
   ]
  },
  {
   "cell_type": "code",
   "execution_count": 76,
   "id": "f53b362e-4ec7-4311-a96e-503718a290ef",
   "metadata": {},
   "outputs": [
    {
     "name": "stdout",
     "output_type": "stream",
     "text": [
      "b'activity_y'\n"
     ]
    }
   ],
   "source": [
    "hdfs = pa.fs.HadoopFileSystem('boss', 9000)\n",
    "with hdfs.open_input_file('/single.csv') as f:\n",
    "    print(f.read_at(10,0))"
   ]
  },
  {
   "cell_type": "code",
   "execution_count": 81,
   "id": "7bcf3909-7809-4f42-b7bd-aac8d774c411",
   "metadata": {},
   "outputs": [
    {
     "data": {
      "text/plain": [
       "444874"
      ]
     },
     "execution_count": 81,
     "metadata": {},
     "output_type": "execute_result"
    }
   ],
   "source": [
    "import io\n",
    "mycount = 0\n",
    "with hdfs.open_input_file('/single.csv') as f:\n",
    "    reader = io.TextIOWrapper(io.BufferedReader(f))\n",
    "    for i,line in enumerate(reader):\n",
    "        if 'Single Family' in line:\n",
    "            mycount += 1\n",
    "mycount\n",
    "                                                           "
   ]
  },
  {
   "cell_type": "code",
   "execution_count": null,
   "id": "554e3e09-a00b-46f3-b356-4cbd3639b8d2",
   "metadata": {},
   "outputs": [],
   "source": []
  }
 ],
 "metadata": {
  "kernelspec": {
   "display_name": "Python 3 (ipykernel)",
   "language": "python",
   "name": "python3"
  },
  "language_info": {
   "codemirror_mode": {
    "name": "ipython",
    "version": 3
   },
   "file_extension": ".py",
   "mimetype": "text/x-python",
   "name": "python",
   "nbconvert_exporter": "python",
   "pygments_lexer": "ipython3",
   "version": "3.10.12"
  }
 },
 "nbformat": 4,
 "nbformat_minor": 5
}
