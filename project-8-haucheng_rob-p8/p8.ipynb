{
 "cells": [
  {
   "cell_type": "code",
   "execution_count": 1,
   "id": "2a68e769-e860-45c1-9af6-477660b0427b",
   "metadata": {},
   "outputs": [
    {
     "data": {
      "text/html": [
       "<div>\n",
       "<style scoped>\n",
       "    .dataframe tbody tr th:only-of-type {\n",
       "        vertical-align: middle;\n",
       "    }\n",
       "\n",
       "    .dataframe tbody tr th {\n",
       "        vertical-align: top;\n",
       "    }\n",
       "\n",
       "    .dataframe thead th {\n",
       "        text-align: right;\n",
       "    }\n",
       "</style>\n",
       "<table border=\"1\" class=\"dataframe\">\n",
       "  <thead>\n",
       "    <tr style=\"text-align: right;\">\n",
       "      <th></th>\n",
       "      <th>num_rows</th>\n",
       "    </tr>\n",
       "  </thead>\n",
       "  <tbody>\n",
       "    <tr>\n",
       "      <th>0</th>\n",
       "      <td>3233</td>\n",
       "    </tr>\n",
       "  </tbody>\n",
       "</table>\n",
       "</div>"
      ],
      "text/plain": [
       "   num_rows\n",
       "0      3233"
      ]
     },
     "execution_count": 1,
     "metadata": {},
     "output_type": "execute_result"
    }
   ],
   "source": [
    "from google.cloud import bigquery\n",
    "bq = bigquery.Client()\n",
    "\n",
    "q = bq.query(\n",
    "\"\"\"\n",
    "select count(*) as num_rows \n",
    "from bigquery-public-data.geo_us_boundaries.counties\n",
    "\"\"\")\n",
    "q.to_dataframe()"
   ]
  },
  {
   "cell_type": "code",
   "execution_count": 2,
   "id": "e888c8cc-584c-4eb5-871a-39496b607bbb",
   "metadata": {},
   "outputs": [],
   "source": [
    "q = bq.query(\n",
    "\"\"\"\n",
    "SELECT counties.geo_id\n",
    "FROM `bigquery-public-data.geo_us_boundaries.counties` AS counties\n",
    "WHERE counties.county_name = \"Dane\"\n",
    "LIMIT 10;\n",
    "\"\"\")\n",
    "df = q.to_dataframe()\n"
   ]
  },
  {
   "cell_type": "code",
   "execution_count": 3,
   "id": "45b84de5-2eb7-4058-8f4d-3c8333c4e189",
   "metadata": {},
   "outputs": [
    {
     "data": {
      "text/plain": [
       "'55025'"
      ]
     },
     "execution_count": 3,
     "metadata": {},
     "output_type": "execute_result"
    }
   ],
   "source": [
    "#q1\n",
    "geo_id = df['geo_id'].iloc[0]\n",
    "ans = str(geo_id)\n",
    "ans"
   ]
  },
  {
   "cell_type": "code",
   "execution_count": 4,
   "id": "2b1f2135-3b48-40d1-a391-71dc8a643fcd",
   "metadata": {},
   "outputs": [],
   "source": [
    "q = bq.query(\n",
    "\"\"\"\n",
    "SELECT state_fips_code, COUNT(*) AS county_nums\n",
    "FROM `bigquery-public-data.geo_us_boundaries.counties`\n",
    "GROUP BY state_fips_code\n",
    "ORDER BY county_nums DESC\n",
    "LIMIT 5;\n",
    "\"\"\")\n",
    "df = q.to_dataframe()"
   ]
  },
  {
   "cell_type": "code",
   "execution_count": 5,
   "id": "52ea1721-f2e8-42fe-b296-fe91a359d870",
   "metadata": {
    "scrolled": true
   },
   "outputs": [
    {
     "data": {
      "text/plain": [
       "{'48': 254, '13': 159, '51': 133, '21': 120, '29': 115}"
      ]
     },
     "execution_count": 5,
     "metadata": {},
     "output_type": "execute_result"
    }
   ],
   "source": [
    "#q2\n",
    "df.set_index('state_fips_code')['county_nums'].to_dict()"
   ]
  },
  {
   "cell_type": "code",
   "execution_count": 6,
   "id": "58797902-980a-40ae-bb75-e7e0e87ee713",
   "metadata": {},
   "outputs": [
    {
     "data": {
      "text/plain": [
       "{'q1': 5.9604644775390625e-05, 'q2': 5.9604644775390625e-05}"
      ]
     },
     "execution_count": 6,
     "metadata": {},
     "output_type": "execute_result"
    }
   ],
   "source": [
    "#q3\n",
    "config = bigquery.QueryJobConfig(use_query_cache=False)\n",
    "q = bq.query(\n",
    "\"\"\"\n",
    "SELECT counties.geo_id\n",
    "FROM `bigquery-public-data.geo_us_boundaries.counties` AS counties\n",
    "WHERE counties.county_name = \"Dane\"\n",
    "LIMIT 10;\n",
    "\"\"\"\n",
    ", job_config=config)\n",
    "\n",
    "price_per_tb = 6.25\n",
    "\n",
    "cost_q1 = (q.total_bytes_billed / 1024**4) * price_per_tb\n",
    "\n",
    "q = bq.query(\n",
    "\"\"\"\n",
    "SELECT state_fips_code, COUNT(*) AS county_nums\n",
    "FROM `bigquery-public-data.geo_us_boundaries.counties`\n",
    "GROUP BY state_fips_code\n",
    "ORDER BY county_nums DESC\n",
    "LIMIT 5;\n",
    "\"\"\"\n",
    ", job_config=config)\n",
    "\n",
    "cost_q2 = (q.total_bytes_billed / 1024**4) * price_per_tb\n",
    "\n",
    "costs = {\n",
    "    'q1': cost_q1,\n",
    "    'q2': cost_q2\n",
    "}\n",
    "\n",
    "costs"
   ]
  },
  {
   "cell_type": "code",
   "execution_count": 7,
   "id": "9780a47b-02c0-4f83-8876-2d115f72ecfa",
   "metadata": {},
   "outputs": [
    {
     "data": {
      "text/plain": [
       "Dataset(DatasetReference('cs544-399214', 'p8'))"
      ]
     },
     "execution_count": 7,
     "metadata": {},
     "output_type": "execute_result"
    }
   ],
   "source": [
    "ds = bigquery.Dataset(\"cs544-399214.p8\")\n",
    "bq.create_dataset(ds, exists_ok=True)"
   ]
  },
  {
   "cell_type": "code",
   "execution_count": 8,
   "id": "67568976-1581-4a88-8f1c-6b7cf0004d6d",
   "metadata": {},
   "outputs": [
    {
     "data": {
      "text/plain": [
       "LoadJob<project=cs544-399214, location=US, id=cdb2fc37-66d2-41fd-8c5b-af8b0a4fb36f>"
      ]
     },
     "execution_count": 8,
     "metadata": {},
     "output_type": "execute_result"
    }
   ],
   "source": [
    "config = bigquery.LoadJobConfig(source_format=\"PARQUET\", write_disposition=\"WRITE_TRUNCATE\")\n",
    "source = \"gs://haucheng_rob-p8/hdma-wi-2021.parquet\"\n",
    "job = bq.load_table_from_uri(source, \"cs544-399214.p8.hdma\", job_config=config)\n",
    "job.result()"
   ]
  },
  {
   "cell_type": "code",
   "execution_count": 9,
   "id": "55d79b5c-386b-436e-8c06-8ff7bdc35514",
   "metadata": {},
   "outputs": [
    {
     "data": {
      "text/plain": [
       "['p8']"
      ]
     },
     "execution_count": 9,
     "metadata": {},
     "output_type": "execute_result"
    }
   ],
   "source": [
    "#q4\n",
    "[ds.dataset_id for ds in bq.list_datasets(\"cs544-399214\")]"
   ]
  },
  {
   "cell_type": "code",
   "execution_count": 10,
   "id": "72d49ce6-eef7-44ba-bcbd-9f829ab7b255",
   "metadata": {},
   "outputs": [],
   "source": [
    "q = bq.query(\n",
    "\"\"\"\n",
    "SELECT c.county_name, COUNT(*) as nums\n",
    "FROM `cs544-399214.p8.hdma` h\n",
    "JOIN `bigquery-public-data.geo_us_boundaries.counties` c ON h.county_code = c.county_fips_code\n",
    "GROUP BY c.county_name\n",
    "ORDER BY nums DESC\n",
    "LIMIT 10;\n",
    "\"\"\")\n",
    "df = q.to_dataframe()"
   ]
  },
  {
   "cell_type": "code",
   "execution_count": 11,
   "id": "cf06b015-35ce-42a4-ac94-cdfa5c7414c6",
   "metadata": {},
   "outputs": [
    {
     "data": {
      "text/plain": [
       "{'Milwaukee': 46570,\n",
       " 'Dane': 38557,\n",
       " 'Waukesha': 34159,\n",
       " 'Brown': 15615,\n",
       " 'Racine': 13007,\n",
       " 'Outagamie': 11523,\n",
       " 'Kenosha': 10744,\n",
       " 'Washington': 10726,\n",
       " 'Rock': 9834,\n",
       " 'Winnebago': 9310}"
      ]
     },
     "execution_count": 11,
     "metadata": {},
     "output_type": "execute_result"
    }
   ],
   "source": [
    "#q5\n",
    "df.set_index('county_name')['nums'].to_dict()"
   ]
  },
  {
   "cell_type": "code",
   "execution_count": 12,
   "id": "503a3051-cfec-4744-a86b-872e767aa1c8",
   "metadata": {},
   "outputs": [],
   "source": [
    "url = \"https://docs.google.com/spreadsheets/d/11UeIBqQylAyNUBsIO54p6WiYJWHayQMfHDbUWq1jGco/\"\n",
    "\n",
    "external_config = bigquery.ExternalConfig(\"GOOGLE_SHEETS\")\n",
    "external_config.source_uris = [url]\n",
    "external_config.options.skip_leading_rows = 1\n",
    "external_config.autodetect = True\n",
    "\n",
    "table = bigquery.Table(\"cs544-399214.p8.applications\")\n",
    "table.external_data_configuration = external_config\n",
    "\n",
    "table = bq.create_table(table, exists_ok=True)"
   ]
  },
  {
   "cell_type": "code",
   "execution_count": 13,
   "id": "5fb4d503-031d-4a27-9737-805f720fed39",
   "metadata": {},
   "outputs": [],
   "source": [
    "q = bq.query(\n",
    "\"\"\"\n",
    "SELECT COUNT(*) AS nums\n",
    "FROM `cs544-399214.p8.applications`\n",
    "WHERE income = 100000; \n",
    "\"\"\"\n",
    ") # set income as 100K\n",
    "\n",
    "df = q.to_dataframe()"
   ]
  },
  {
   "cell_type": "code",
   "execution_count": 14,
   "id": "44c61048-ca2f-4ea0-9069-20ae8244b58a",
   "metadata": {},
   "outputs": [
    {
     "data": {
      "text/plain": [
       "19"
      ]
     },
     "execution_count": 14,
     "metadata": {},
     "output_type": "execute_result"
    }
   ],
   "source": [
    "#q6\n",
    "ans = df['nums'].iloc[0]\n",
    "ans"
   ]
  },
  {
   "cell_type": "code",
   "execution_count": 15,
   "id": "50fa11f7-1a74-416e-a87e-84a2d0738505",
   "metadata": {},
   "outputs": [],
   "source": [
    "q = bq.query(\n",
    "\"\"\"\n",
    "WITH Applications AS (\n",
    "  SELECT ST_GEOGPOINT(longitude, latitude) as point\n",
    "  FROM `cs544-399214.p8.applications`\n",
    ")\n",
    "SELECT c.county_name, COUNT(*) as application_count\n",
    "FROM Applications a\n",
    "JOIN `bigquery-public-data.geo_us_boundaries.counties` c\n",
    "ON ST_CONTAINS(c.county_geom, a.point)\n",
    "WHERE c.state_fips_code = '55'\n",
    "GROUP BY c.county_name;\n",
    "\"\"\"\n",
    ")\n",
    "df = q.to_dataframe()"
   ]
  },
  {
   "cell_type": "code",
   "execution_count": 16,
   "id": "4bc51cc9-429b-41f6-bbfb-3a8ea21134c2",
   "metadata": {},
   "outputs": [
    {
     "data": {
      "text/plain": [
       "{'Outagamie': 1,\n",
       " 'Dane': 47,\n",
       " 'Milwaukee': 3,\n",
       " 'Bayfield': 4,\n",
       " 'Door': 15,\n",
       " 'Columbia': 4,\n",
       " 'Crawford': 1,\n",
       " 'Walworth': 2,\n",
       " 'Ashland': 1,\n",
       " 'Manitowoc': 1,\n",
       " 'Sheboygan': 3,\n",
       " 'Brown': 6,\n",
       " 'Marinette': 2,\n",
       " 'Oneida': 3,\n",
       " 'Douglas': 1,\n",
       " 'Winnebago': 2,\n",
       " 'Wood': 1,\n",
       " 'Dodge': 1,\n",
       " 'Marathon': 1,\n",
       " 'Polk': 1,\n",
       " 'Eau Claire': 1,\n",
       " 'Monroe': 2,\n",
       " 'Barron': 2,\n",
       " 'Kewaunee': 1,\n",
       " 'Ozaukee': 1,\n",
       " 'Jefferson': 1,\n",
       " 'Green Lake': 2,\n",
       " 'Adams': 1,\n",
       " 'Sauk': 1}"
      ]
     },
     "execution_count": 16,
     "metadata": {},
     "output_type": "execute_result"
    }
   ],
   "source": [
    "#q7\n",
    "df.set_index('county_name')['application_count'].to_dict()"
   ]
  },
  {
   "cell_type": "code",
   "execution_count": 17,
   "id": "db781a0c-76b6-43d5-bc8a-6535139fd3fa",
   "metadata": {},
   "outputs": [],
   "source": [
    "%load_ext google.cloud.bigquery"
   ]
  },
  {
   "cell_type": "code",
   "execution_count": 18,
   "id": "ad610f1d-cff2-4b0e-a2dd-77eca2ec614b",
   "metadata": {},
   "outputs": [
    {
     "data": {
      "application/vnd.jupyter.widget-view+json": {
       "model_id": "e3f22c01baf4469ebf7119562061b897",
       "version_major": 2,
       "version_minor": 0
      },
      "text/plain": [
       "Query is running:   0%|          |"
      ]
     },
     "metadata": {},
     "output_type": "display_data"
    },
    {
     "data": {
      "text/html": [
       "<div>\n",
       "<style scoped>\n",
       "    .dataframe tbody tr th:only-of-type {\n",
       "        vertical-align: middle;\n",
       "    }\n",
       "\n",
       "    .dataframe tbody tr th {\n",
       "        vertical-align: top;\n",
       "    }\n",
       "\n",
       "    .dataframe thead th {\n",
       "        text-align: right;\n",
       "    }\n",
       "</style>\n",
       "<table border=\"1\" class=\"dataframe\">\n",
       "  <thead>\n",
       "    <tr style=\"text-align: right;\">\n",
       "      <th></th>\n",
       "    </tr>\n",
       "  </thead>\n",
       "  <tbody>\n",
       "  </tbody>\n",
       "</table>\n",
       "</div>"
      ],
      "text/plain": [
       "Empty DataFrame\n",
       "Columns: []\n",
       "Index: []"
      ]
     },
     "execution_count": 18,
     "metadata": {},
     "output_type": "execute_result"
    }
   ],
   "source": [
    "%%bigquery\n",
    "CREATE OR REPLACE MODEL `cs544-399214.p8.p8_model`\n",
    "OPTIONS(model_type='LINEAR_REG', INPUT_LABEL_COLS=[\"loan_amount\"]) AS\n",
    "SELECT\n",
    "  loan_amount,\n",
    "  income,\n",
    "  loan_term\n",
    "FROM\n",
    "  `cs544-399214.p8.hdma`;"
   ]
  },
  {
   "cell_type": "code",
   "execution_count": 19,
   "id": "f774696a-3f9e-4bfe-90a8-1375ad38391d",
   "metadata": {},
   "outputs": [],
   "source": [
    "import time \n",
    "\n",
    "while True:\n",
    "    models = list(bq.list_models(\"cs544-399214.p8\"))\n",
    "    # print(models)\n",
    "    model_names = [model.model_id for model in models]\n",
    "    if 'p8_model' in model_names:\n",
    "        break\n",
    "    time.sleep(5)"
   ]
  },
  {
   "cell_type": "code",
   "execution_count": 20,
   "id": "8c629282-78e5-47bc-bb2e-c4f867a0ce0f",
   "metadata": {},
   "outputs": [
    {
     "data": {
      "application/vnd.jupyter.widget-view+json": {
       "model_id": "f0ecb3672a114037a16197a9d3c1bb42",
       "version_major": 2,
       "version_minor": 0
      },
      "text/plain": [
       "Query is running:   0%|          |"
      ]
     },
     "metadata": {},
     "output_type": "display_data"
    },
    {
     "data": {
      "application/vnd.jupyter.widget-view+json": {
       "model_id": "df0841c039f341309238e0215ede32c4",
       "version_major": 2,
       "version_minor": 0
      },
      "text/plain": [
       "Downloading:   0%|          |"
      ]
     },
     "metadata": {},
     "output_type": "display_data"
    }
   ],
   "source": [
    "%%bigquery df\n",
    "SELECT *\n",
    "FROM ML.EVALUATE(MODEL `cs544-399214.p8.p8_model`, (\n",
    "    SELECT loan_amount, income, loan_term\n",
    "    FROM `cs544-399214.p8.hdma`\n",
    "))"
   ]
  },
  {
   "cell_type": "code",
   "execution_count": 21,
   "id": "5d7551a6-df36-4762-8f65-b95b7c5a4b51",
   "metadata": {},
   "outputs": [
    {
     "data": {
      "text/plain": [
       "0.2916534692239263"
      ]
     },
     "execution_count": 21,
     "metadata": {},
     "output_type": "execute_result"
    }
   ],
   "source": [
    "#q8\n",
    "df[\"r2_score\"].iloc[0]"
   ]
  },
  {
   "cell_type": "code",
   "execution_count": 22,
   "id": "f59e29c4-d86c-437a-a63f-df72d1219429",
   "metadata": {},
   "outputs": [
    {
     "data": {
      "application/vnd.jupyter.widget-view+json": {
       "model_id": "040417c77a56459a80716c81a3ff29bf",
       "version_major": 2,
       "version_minor": 0
      },
      "text/plain": [
       "Query is running:   0%|          |"
      ]
     },
     "metadata": {},
     "output_type": "display_data"
    },
    {
     "data": {
      "application/vnd.jupyter.widget-view+json": {
       "model_id": "9dbbf68592a24601a7ecd847b224cd10",
       "version_major": 2,
       "version_minor": 0
      },
      "text/plain": [
       "Downloading:   0%|          |"
      ]
     },
     "metadata": {},
     "output_type": "display_data"
    }
   ],
   "source": [
    "%%bigquery df\n",
    "SELECT *\n",
    "FROM ML.WEIGHTS(MODEL `cs544-399214.p8.p8_model`)"
   ]
  },
  {
   "cell_type": "code",
   "execution_count": 23,
   "id": "8edc7f7b-6299-4284-9f3a-477ce6319555",
   "metadata": {},
   "outputs": [
    {
     "data": {
      "text/html": [
       "<div>\n",
       "<style scoped>\n",
       "    .dataframe tbody tr th:only-of-type {\n",
       "        vertical-align: middle;\n",
       "    }\n",
       "\n",
       "    .dataframe tbody tr th {\n",
       "        vertical-align: top;\n",
       "    }\n",
       "\n",
       "    .dataframe thead th {\n",
       "        text-align: right;\n",
       "    }\n",
       "</style>\n",
       "<table border=\"1\" class=\"dataframe\">\n",
       "  <thead>\n",
       "    <tr style=\"text-align: right;\">\n",
       "      <th></th>\n",
       "      <th>processed_input</th>\n",
       "      <th>weight</th>\n",
       "      <th>category_weights</th>\n",
       "    </tr>\n",
       "  </thead>\n",
       "  <tbody>\n",
       "    <tr>\n",
       "      <th>0</th>\n",
       "      <td>income</td>\n",
       "      <td>0.804631</td>\n",
       "      <td>[]</td>\n",
       "    </tr>\n",
       "    <tr>\n",
       "      <th>1</th>\n",
       "      <td>loan_term</td>\n",
       "      <td>380.225284</td>\n",
       "      <td>[]</td>\n",
       "    </tr>\n",
       "    <tr>\n",
       "      <th>2</th>\n",
       "      <td>__INTERCEPT__</td>\n",
       "      <td>-579.734123</td>\n",
       "      <td>[]</td>\n",
       "    </tr>\n",
       "  </tbody>\n",
       "</table>\n",
       "</div>"
      ],
      "text/plain": [
       "  processed_input      weight category_weights\n",
       "0          income    0.804631               []\n",
       "1       loan_term  380.225284               []\n",
       "2   __INTERCEPT__ -579.734123               []"
      ]
     },
     "execution_count": 23,
     "metadata": {},
     "output_type": "execute_result"
    }
   ],
   "source": [
    "df"
   ]
  },
  {
   "cell_type": "code",
   "execution_count": 24,
   "id": "c45231ed-b6ee-4244-8c4c-63490b0831a6",
   "metadata": {},
   "outputs": [
    {
     "data": {
      "text/plain": [
       "0.80463102539899"
      ]
     },
     "execution_count": 24,
     "metadata": {},
     "output_type": "execute_result"
    }
   ],
   "source": [
    "#q9\n",
    "df[\"weight\"].iloc[0]"
   ]
  },
  {
   "cell_type": "code",
   "execution_count": 25,
   "id": "fe48e682-c7ca-4480-bf2b-322a976bb4ec",
   "metadata": {},
   "outputs": [
    {
     "data": {
      "application/vnd.jupyter.widget-view+json": {
       "model_id": "cb32f7e527774e18a7aa77ea5080694b",
       "version_major": 2,
       "version_minor": 0
      },
      "text/plain": [
       "Query is running:   0%|          |"
      ]
     },
     "metadata": {},
     "output_type": "display_data"
    },
    {
     "data": {
      "application/vnd.jupyter.widget-view+json": {
       "model_id": "040c98021e7545068b67d70793b6c0d5",
       "version_major": 2,
       "version_minor": 0
      },
      "text/plain": [
       "Downloading:   0%|          |"
      ]
     },
     "metadata": {},
     "output_type": "display_data"
    }
   ],
   "source": [
    "%%bigquery df\n",
    "WITH Pred AS (\n",
    "SELECT *\n",
    "FROM ML.PREDICT(MODEL `cs544-399214.p8.p8_model`, (\n",
    "    SELECT loan_amount, income, 360 AS loan_term \n",
    "    FROM `cs544-399214.p8.applications`\n",
    "))\n",
    ")\n",
    "SELECT\n",
    "  COUNTIF(loan_amount > predicted_loan_amount) / COUNT(*) as ratio\n",
    "FROM\n",
    "  Pred;"
   ]
  },
  {
   "cell_type": "code",
   "execution_count": 26,
   "id": "c9fd02f4-ca35-49f7-81e9-36e7cf23e4ad",
   "metadata": {},
   "outputs": [
    {
     "data": {
      "text/plain": [
       "0.6141304347826086"
      ]
     },
     "execution_count": 26,
     "metadata": {},
     "output_type": "execute_result"
    }
   ],
   "source": [
    "#q10\n",
    "df[\"ratio\"].iloc[0]"
   ]
  },
  {
   "cell_type": "code",
   "execution_count": null,
   "id": "f224daa1-4040-413b-9585-6d0489ee1980",
   "metadata": {},
   "outputs": [],
   "source": []
  }
 ],
 "metadata": {
  "kernelspec": {
   "display_name": "Python 3 (ipykernel)",
   "language": "python",
   "name": "python3"
  },
  "language_info": {
   "codemirror_mode": {
    "name": "ipython",
    "version": 3
   },
   "file_extension": ".py",
   "mimetype": "text/x-python",
   "name": "python",
   "nbconvert_exporter": "python",
   "pygments_lexer": "ipython3",
   "version": "3.10.12"
  }
 },
 "nbformat": 4,
 "nbformat_minor": 5
}
